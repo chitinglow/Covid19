{
  "nbformat": 4,
  "nbformat_minor": 0,
  "metadata": {
    "kernelspec": {
      "display_name": "Python 3",
      "language": "python",
      "name": "python3"
    },
    "language_info": {
      "codemirror_mode": {
        "name": "ipython",
        "version": 3
      },
      "file_extension": ".py",
      "mimetype": "text/x-python",
      "name": "python",
      "nbconvert_exporter": "python",
      "pygments_lexer": "ipython3",
      "version": "3.7.4"
    },
    "colab": {
      "name": "Copy of COVID19 Exploratory Analysis.ipynb",
      "provenance": [],
      "include_colab_link": true
    }
  },
  "cells": [
    {
      "cell_type": "markdown",
      "metadata": {
        "id": "view-in-github",
        "colab_type": "text"
      },
      "source": [
        "<a href=\"https://colab.research.google.com/github/chitinglow/Covid19/blob/master/COVID19_Exploratory_Analysis.ipynb\" target=\"_parent\"><img src=\"https://colab.research.google.com/assets/colab-badge.svg\" alt=\"Open In Colab\"/></a>"
      ]
    },
    {
      "cell_type": "markdown",
      "metadata": {
        "id": "yxSXEE67vcGp",
        "colab_type": "text"
      },
      "source": [
        "# Exploratory Data Analysis on COVID-19"
      ]
    },
    {
      "cell_type": "markdown",
      "metadata": {
        "id": "uXHsvgRmvcGq",
        "colab_type": "text"
      },
      "source": [
        "## Data Description\n",
        "\n",
        "1.) Case Data - Data of COVID-19 infection cases in South Korea\n",
        "<br/> \n",
        "<br/>\n",
        "2.) Patient Data  \n",
        "&nbsp;&nbsp;i. PatientInfo: Epidemiological data of COVID-19 patients in South Korea\n",
        "<br/>\n",
        "&nbsp;&nbsp;ii. PatientRoute: Route data of COVID-19 patients in South Korea\n",
        "<br/>\n",
        "<br/>\n",
        "3.) Time Series data\n",
        "<br/>\n",
        "&nbsp;&nbsp;i. Time: Time series data of COVID-19 status in South Korea\n",
        "<br/>\n",
        "&nbsp;&nbsp;ii. TimeAge: Time series data of COVID-19 status in terms of the age in South Korea\n",
        "<br/>\n",
        "&nbsp;&nbsp;iii. TimeGender: Time series data of COVID-19 status in terms of gender in South Korea\n",
        "<br/>\n",
        "&nbsp;&nbsp;iv.TimeProvince: Time series data of COVID-19 status in terms of the Province in South Korea\n",
        "<br/>\n",
        "<br/>\n",
        "4) Additional Data\n",
        "<br/>\n",
        "&nbsp;&nbsp;i. Region: Location and statistical data of the regions in South Korea\n",
        "<br/>\n",
        "&nbsp;&nbsp;ii. Weather: Data of the weather in the regions of South Korea\n",
        "<br/>\n",
        "&nbsp;&nbsp;iii. SearchTrend: Trend data of the keywords searched in NAVER which is one of the largest portals in South Korea\n",
        "<br/>\n",
        "&nbsp;&nbsp;iv. SeoulFloating: Data of floating population in Seoul, South Korea (from SK Telecom Big Data Hub)"
      ]
    },
    {
      "cell_type": "code",
      "metadata": {
        "id": "7wOZD6X0vcGr",
        "colab_type": "code",
        "colab": {}
      },
      "source": [
        "# import libraries\n",
        "import pandas as pd\n",
        "import matplotlib.pyplot as plt\n",
        "from pandas_profiling import ProfileReport\n",
        "import pandas_profiling\n",
        "\n",
        "#case data\n",
        "case = pd.read_csv(\"/content/drive/My Drive/Colab Notebooks/Case.csv\")\n",
        "\n",
        "#patient data\n",
        "patientinfo = pd.read_csv(\"/content/drive/My Drive/Colab Notebooks/PatientInfo.csv\")\n",
        "patientroute = pd.read_csv(\"/content/drive/My Drive/Colab Notebooks/PatientRoute.csv\")\n",
        "\n",
        "#time series data\n",
        "time = pd.read_csv('/content/drive/My Drive/Colab Notebooks/Time.csv')\n",
        "timeage = pd.read_csv('/content/drive/My Drive/Colab Notebooks/TimeAge.csv')\n",
        "timegender = pd.read_csv('/content/drive/My Drive/Colab Notebooks/TimeGender.csv')\n",
        "timeprovince = pd.read_csv('/content/drive/My Drive/Colab Notebooks/TimeProvince.csv')\n",
        "\n",
        "#additional data\n",
        "region = pd.read_csv('/content/drive/My Drive/Colab Notebooks/Region.csv')\n",
        "weather = pd.read_csv('/content/drive/My Drive/Colab Notebooks/Weather.csv')\n",
        "searchtrend = pd.read_csv('/content/drive/My Drive/Colab Notebooks/SearchTrend.csv')\n",
        "searchfloating = pd.read_csv(\"/content/drive/My Drive/Colab Notebooks/SeoulFloating.csv\")"
      ],
      "execution_count": 0,
      "outputs": []
    },
    {
      "cell_type": "markdown",
      "metadata": {
        "id": "AXG3PhRAvcGu",
        "colab_type": "text"
      },
      "source": [
        "## Case information"
      ]
    },
    {
      "cell_type": "markdown",
      "metadata": {
        "id": "VcCHG82cxIUj",
        "colab_type": "text"
      },
      "source": [
        "# Case "
      ]
    },
    {
      "cell_type": "code",
      "metadata": {
        "id": "UrP0EYJAxMYO",
        "colab_type": "code",
        "colab": {
          "base_uri": "https://localhost:8080/",
          "height": 272
        },
        "outputId": "a80957e9-2bad-48e3-e547-776671cc34ed"
      },
      "source": [
        "case.info()"
      ],
      "execution_count": 34,
      "outputs": [
        {
          "output_type": "stream",
          "text": [
            "<class 'pandas.core.frame.DataFrame'>\n",
            "RangeIndex: 111 entries, 0 to 110\n",
            "Data columns (total 8 columns):\n",
            " #   Column          Non-Null Count  Dtype \n",
            "---  ------          --------------  ----- \n",
            " 0   case_id         111 non-null    int64 \n",
            " 1   province        111 non-null    object\n",
            " 2   city            111 non-null    object\n",
            " 3   group           111 non-null    bool  \n",
            " 4   infection_case  111 non-null    object\n",
            " 5   confirmed       111 non-null    int64 \n",
            " 6   latitude        111 non-null    object\n",
            " 7   longitude       111 non-null    object\n",
            "dtypes: bool(1), int64(2), object(5)\n",
            "memory usage: 6.3+ KB\n"
          ],
          "name": "stdout"
        }
      ]
    },
    {
      "cell_type": "markdown",
      "metadata": {
        "id": "T9LxagGh3syS",
        "colab_type": "text"
      },
      "source": [
        "### Description of the case variables\n",
        "\n",
        "* Case id: Unique identifier of infection case\n",
        "* Province: Special City/Metropolitan City/Province\n",
        "* City: City/Country/District\n",
        "* Group: TRUE (group infection); FALSE (not group)\n",
        "* Infection case: Infection case based on different cluster\n",
        "* Confirmed: The accumulated number of the comfirmed\n",
        "* Latitude: The latitude of the infection group\n",
        "* Longitude: The longitude of the infection group "
      ]
    },
    {
      "cell_type": "code",
      "metadata": {
        "id": "x1tKeM-e3pyi",
        "colab_type": "code",
        "colab": {
          "base_uri": "https://localhost:8080/",
          "height": 204
        },
        "outputId": "056c2fd2-b0dc-4972-85b2-23676c19b28a"
      },
      "source": [
        "case.head()"
      ],
      "execution_count": 35,
      "outputs": [
        {
          "output_type": "execute_result",
          "data": {
            "text/html": [
              "<div>\n",
              "<style scoped>\n",
              "    .dataframe tbody tr th:only-of-type {\n",
              "        vertical-align: middle;\n",
              "    }\n",
              "\n",
              "    .dataframe tbody tr th {\n",
              "        vertical-align: top;\n",
              "    }\n",
              "\n",
              "    .dataframe thead th {\n",
              "        text-align: right;\n",
              "    }\n",
              "</style>\n",
              "<table border=\"1\" class=\"dataframe\">\n",
              "  <thead>\n",
              "    <tr style=\"text-align: right;\">\n",
              "      <th></th>\n",
              "      <th>case_id</th>\n",
              "      <th>province</th>\n",
              "      <th>city</th>\n",
              "      <th>group</th>\n",
              "      <th>infection_case</th>\n",
              "      <th>confirmed</th>\n",
              "      <th>latitude</th>\n",
              "      <th>longitude</th>\n",
              "    </tr>\n",
              "  </thead>\n",
              "  <tbody>\n",
              "    <tr>\n",
              "      <th>0</th>\n",
              "      <td>1000001</td>\n",
              "      <td>Seoul</td>\n",
              "      <td>Guro-gu</td>\n",
              "      <td>True</td>\n",
              "      <td>Guro-gu Call Center</td>\n",
              "      <td>98</td>\n",
              "      <td>37.508163</td>\n",
              "      <td>126.884387</td>\n",
              "    </tr>\n",
              "    <tr>\n",
              "      <th>1</th>\n",
              "      <td>1000002</td>\n",
              "      <td>Seoul</td>\n",
              "      <td>Dongdaemun-gu</td>\n",
              "      <td>True</td>\n",
              "      <td>Dongan Church</td>\n",
              "      <td>20</td>\n",
              "      <td>37.592888</td>\n",
              "      <td>127.056766</td>\n",
              "    </tr>\n",
              "    <tr>\n",
              "      <th>2</th>\n",
              "      <td>1000003</td>\n",
              "      <td>Seoul</td>\n",
              "      <td>Guro-gu</td>\n",
              "      <td>True</td>\n",
              "      <td>Manmin Central Church</td>\n",
              "      <td>41</td>\n",
              "      <td>37.481059</td>\n",
              "      <td>126.894343</td>\n",
              "    </tr>\n",
              "    <tr>\n",
              "      <th>3</th>\n",
              "      <td>1000004</td>\n",
              "      <td>Seoul</td>\n",
              "      <td>Eunpyeong-gu</td>\n",
              "      <td>True</td>\n",
              "      <td>Eunpyeong St. Mary's Hospital</td>\n",
              "      <td>14</td>\n",
              "      <td>37.63369</td>\n",
              "      <td>126.9165</td>\n",
              "    </tr>\n",
              "    <tr>\n",
              "      <th>4</th>\n",
              "      <td>1000005</td>\n",
              "      <td>Seoul</td>\n",
              "      <td>Seongdong-gu</td>\n",
              "      <td>True</td>\n",
              "      <td>Seongdong-gu APT</td>\n",
              "      <td>13</td>\n",
              "      <td>37.55713</td>\n",
              "      <td>127.0403</td>\n",
              "    </tr>\n",
              "  </tbody>\n",
              "</table>\n",
              "</div>"
            ],
            "text/plain": [
              "   case_id province           city  ...  confirmed   latitude   longitude\n",
              "0  1000001    Seoul        Guro-gu  ...         98  37.508163  126.884387\n",
              "1  1000002    Seoul  Dongdaemun-gu  ...         20  37.592888  127.056766\n",
              "2  1000003    Seoul        Guro-gu  ...         41  37.481059  126.894343\n",
              "3  1000004    Seoul   Eunpyeong-gu  ...         14   37.63369    126.9165\n",
              "4  1000005    Seoul   Seongdong-gu  ...         13   37.55713    127.0403\n",
              "\n",
              "[5 rows x 8 columns]"
            ]
          },
          "metadata": {
            "tags": []
          },
          "execution_count": 35
        }
      ]
    },
    {
      "cell_type": "code",
      "metadata": {
        "id": "e99RzAxVvcGy",
        "colab_type": "code",
        "outputId": "47e695f5-d294-4b24-95be-7b818c5c687b",
        "colab": {
          "base_uri": "https://localhost:8080/",
          "height": 297
        }
      },
      "source": [
        "#descriptive stats for numerical values\n",
        "case[['confirmed']].describe()"
      ],
      "execution_count": 39,
      "outputs": [
        {
          "output_type": "execute_result",
          "data": {
            "text/html": [
              "<div>\n",
              "<style scoped>\n",
              "    .dataframe tbody tr th:only-of-type {\n",
              "        vertical-align: middle;\n",
              "    }\n",
              "\n",
              "    .dataframe tbody tr th {\n",
              "        vertical-align: top;\n",
              "    }\n",
              "\n",
              "    .dataframe thead th {\n",
              "        text-align: right;\n",
              "    }\n",
              "</style>\n",
              "<table border=\"1\" class=\"dataframe\">\n",
              "  <thead>\n",
              "    <tr style=\"text-align: right;\">\n",
              "      <th></th>\n",
              "      <th>confirmed</th>\n",
              "    </tr>\n",
              "  </thead>\n",
              "  <tbody>\n",
              "    <tr>\n",
              "      <th>count</th>\n",
              "      <td>111.000000</td>\n",
              "    </tr>\n",
              "    <tr>\n",
              "      <th>mean</th>\n",
              "      <td>87.270270</td>\n",
              "    </tr>\n",
              "    <tr>\n",
              "      <th>std</th>\n",
              "      <td>441.976345</td>\n",
              "    </tr>\n",
              "    <tr>\n",
              "      <th>min</th>\n",
              "      <td>0.000000</td>\n",
              "    </tr>\n",
              "    <tr>\n",
              "      <th>25%</th>\n",
              "      <td>5.000000</td>\n",
              "    </tr>\n",
              "    <tr>\n",
              "      <th>50%</th>\n",
              "      <td>10.000000</td>\n",
              "    </tr>\n",
              "    <tr>\n",
              "      <th>75%</th>\n",
              "      <td>31.000000</td>\n",
              "    </tr>\n",
              "    <tr>\n",
              "      <th>max</th>\n",
              "      <td>4508.000000</td>\n",
              "    </tr>\n",
              "  </tbody>\n",
              "</table>\n",
              "</div>"
            ],
            "text/plain": [
              "         confirmed\n",
              "count   111.000000\n",
              "mean     87.270270\n",
              "std     441.976345\n",
              "min       0.000000\n",
              "25%       5.000000\n",
              "50%      10.000000\n",
              "75%      31.000000\n",
              "max    4508.000000"
            ]
          },
          "metadata": {
            "tags": []
          },
          "execution_count": 39
        }
      ]
    },
    {
      "cell_type": "code",
      "metadata": {
        "id": "GLf5nqoNvcG0",
        "colab_type": "code",
        "outputId": "d3b6c6d9-074c-40dc-f93e-7513f90e3588",
        "colab": {
          "base_uri": "https://localhost:8080/",
          "height": 170
        }
      },
      "source": [
        "#Checking for missing values\n",
        "case.isnull().sum()"
      ],
      "execution_count": 7,
      "outputs": [
        {
          "output_type": "execute_result",
          "data": {
            "text/plain": [
              "case_id           0\n",
              "province          0\n",
              "city              0\n",
              "group             0\n",
              "infection_case    0\n",
              "confirmed         0\n",
              "latitude          0\n",
              "longitude         0\n",
              "dtype: int64"
            ]
          },
          "metadata": {
            "tags": []
          },
          "execution_count": 7
        }
      ]
    },
    {
      "cell_type": "code",
      "metadata": {
        "id": "es72ZhfZ8zs0",
        "colab_type": "code",
        "colab": {
          "base_uri": "https://localhost:8080/",
          "height": 748
        },
        "outputId": "6f25e5c8-dcbf-49c4-8f7f-2e4e48059845"
      },
      "source": [
        "case.infection_case.value_counts()"
      ],
      "execution_count": 36,
      "outputs": [
        {
          "output_type": "execute_result",
          "data": {
            "text/plain": [
              "etc                                      17\n",
              "overseas inflow                          17\n",
              "contact with patient                     16\n",
              "Shincheonji Church                       15\n",
              "Cheongdo Daenam Hospital                  3\n",
              "Guro-gu Call Center                       3\n",
              "Uijeongbu St. Mary’s Hospital             2\n",
              "Onchun Church                             2\n",
              "Seosan-si Laboratory                      2\n",
              "Manmin Central Church                     2\n",
              "Seongdong-gu APT                          1\n",
              "Gyeongsan Jeil Silver Town                1\n",
              "gym facility in Sejong                    1\n",
              "Eunpyeong St. Mary's Hospital             1\n",
              "Goesan-gun Jangyeon-myeon                 1\n",
              "Geochang-gun Woongyang-myeon              1\n",
              "Suwon Saeng Myeong Saem Church            1\n",
              "Suyeong-gu Kindergarten                   1\n",
              "Second Mi-Ju Hospital                     1\n",
              "Haeundae-gu Catholic Church               1\n",
              "Bonghwa Pureun Nursing Home               1\n",
              "River of Grace Community Church           1\n",
              "Hanmaeum Changwon Hospital                1\n",
              "Jin-gu Academy                            1\n",
              "Fatima Hospital                           1\n",
              "Geochang Church                           1\n",
              "Daesil Convalescent Hospital              1\n",
              "Milal Shelter                             1\n",
              "Gyeongsan Seorin Nursing Home             1\n",
              "Dongan Church                             1\n",
              "Changnyeong Coin Karaoke                  1\n",
              "Korea Forest Engineer Institute           1\n",
              "Ministry of Oceans and Fisheries          1\n",
              "Bundang Jesaeng Hospital                  1\n",
              "Wonju-si Apartments                       1\n",
              "Jongno Community Center                   1\n",
              "Wings Tower                               1\n",
              "Jung-gu Fashion Company                   1\n",
              "gym facility in Cheonan                   1\n",
              "Hansarang Convalescent Hospital           1\n",
              "Pilgrimage to Israel                      1\n",
              "Gyeongsan Cham Joeun Community Center     1\n",
              "Name: infection_case, dtype: int64"
            ]
          },
          "metadata": {
            "tags": []
          },
          "execution_count": 36
        }
      ]
    },
    {
      "cell_type": "markdown",
      "metadata": {
        "id": "xTF3cujfvcG4",
        "colab_type": "text"
      },
      "source": [
        "## Patient Section"
      ]
    },
    {
      "cell_type": "code",
      "metadata": {
        "id": "0Z3gbBxIvcG4",
        "colab_type": "code",
        "outputId": "16c54b62-18e4-44a8-a9bd-eab7696e44d6",
        "colab": {
          "base_uri": "https://localhost:8080/",
          "height": 442
        }
      },
      "source": [
        "patientinfo.info()"
      ],
      "execution_count": 8,
      "outputs": [
        {
          "output_type": "stream",
          "text": [
            "<class 'pandas.core.frame.DataFrame'>\n",
            "RangeIndex: 3253 entries, 0 to 3252\n",
            "Data columns (total 18 columns):\n",
            " #   Column              Non-Null Count  Dtype  \n",
            "---  ------              --------------  -----  \n",
            " 0   patient_id          3253 non-null   int64  \n",
            " 1   global_num          2082 non-null   float64\n",
            " 2   sex                 3200 non-null   object \n",
            " 3   birth_year          2833 non-null   float64\n",
            " 4   age                 3192 non-null   object \n",
            " 5   country             3142 non-null   object \n",
            " 6   province            3253 non-null   object \n",
            " 7   city                3177 non-null   object \n",
            " 8   disease             18 non-null     object \n",
            " 9   infection_case      2441 non-null   object \n",
            " 10  infection_order     31 non-null     float64\n",
            " 11  infected_by         763 non-null    float64\n",
            " 12  contact_number      597 non-null    float64\n",
            " 13  symptom_onset_date  462 non-null    object \n",
            " 14  confirmed_date      3253 non-null   object \n",
            " 15  released_date       1137 non-null   object \n",
            " 16  deceased_date       60 non-null     object \n",
            " 17  state               3253 non-null   object \n",
            "dtypes: float64(5), int64(1), object(12)\n",
            "memory usage: 457.6+ KB\n"
          ],
          "name": "stdout"
        }
      ]
    },
    {
      "cell_type": "markdown",
      "metadata": {
        "id": "k6hanXyC89vw",
        "colab_type": "text"
      },
      "source": [
        "### Description of Patient Info\n",
        "\n",
        "* Patient id: Unique identifier of the patient\n",
        "* Global num: The number given by KCDC\n",
        "* Sex : Patient's sex\n",
        "* Birth year: The birth year of the patient\n",
        "* Age: The age of the patient (in group)\n",
        "* Country: The country of the patient\n",
        "* Province: The province of the patient\n",
        "* City: The city of the patient\n",
        "* Disease: TRUE (underlying disease); FALSE (no disease)\n",
        "* Infection case: The case of infection\n",
        "* Infection order: The order of infection\n",
        "* Infected by: The ID of who infected the patient\n",
        "* Contact Number: The number of contacts with people\n",
        "* Symptom onset date: The date of symptom onset\n",
        "* Confirmed date: The date of being confirmed\n",
        "* Released date: The date of being released\n",
        "* Deceased date: The date of being deceased\n",
        "* State: isolated/relleased/deceased"
      ]
    },
    {
      "cell_type": "code",
      "metadata": {
        "id": "xf2KKuN8Fcgy",
        "colab_type": "code",
        "colab": {
          "base_uri": "https://localhost:8080/",
          "height": 221
        },
        "outputId": "97b271b6-cce0-4f3b-bdf1-332df9bb0678"
      },
      "source": [
        "print(patientinfo.head())\n",
        "patientinfo.age.value_counts()\n",
        "patientinfo.state.value_counts()"
      ],
      "execution_count": 43,
      "outputs": [
        {
          "output_type": "stream",
          "text": [
            "   patient_id  global_num     sex  ...  released_date deceased_date     state\n",
            "0  1000000001         2.0    male  ...     2020-02-05           NaN  released\n",
            "1  1000000002         5.0    male  ...     2020-03-02           NaN  released\n",
            "2  1000000003         6.0    male  ...     2020-02-19           NaN  released\n",
            "3  1000000004         7.0    male  ...     2020-02-15           NaN  released\n",
            "4  1000000005         9.0  female  ...     2020-02-24           NaN  released\n",
            "\n",
            "[5 rows x 18 columns]\n"
          ],
          "name": "stdout"
        },
        {
          "output_type": "execute_result",
          "data": {
            "text/plain": [
              "isolated    1747\n",
              "released    1439\n",
              "deceased      67\n",
              "Name: state, dtype: int64"
            ]
          },
          "metadata": {
            "tags": []
          },
          "execution_count": 43
        }
      ]
    },
    {
      "cell_type": "code",
      "metadata": {
        "id": "oKMcyydDI6ZM",
        "colab_type": "code",
        "colab": {}
      },
      "source": [
        "patientinfo.age.value_counts()\n",
        "patientinfo.state.value_counts()"
      ],
      "execution_count": 0,
      "outputs": []
    },
    {
      "cell_type": "code",
      "metadata": {
        "id": "EKsJOdGhvcG-",
        "colab_type": "code",
        "outputId": "b4ac3501-3e18-41cd-d1bf-00275cca232c",
        "colab": {
          "base_uri": "https://localhost:8080/",
          "height": 272
        }
      },
      "source": [
        "patientroute.info()"
      ],
      "execution_count": 12,
      "outputs": [
        {
          "output_type": "stream",
          "text": [
            "<class 'pandas.core.frame.DataFrame'>\n",
            "RangeIndex: 5321 entries, 0 to 5320\n",
            "Data columns (total 8 columns):\n",
            " #   Column      Non-Null Count  Dtype  \n",
            "---  ------      --------------  -----  \n",
            " 0   patient_id  5321 non-null   int64  \n",
            " 1   global_num  1081 non-null   float64\n",
            " 2   date        5321 non-null   object \n",
            " 3   province    5321 non-null   object \n",
            " 4   city        5321 non-null   object \n",
            " 5   type        5321 non-null   object \n",
            " 6   latitude    5321 non-null   float64\n",
            " 7   longitude   5321 non-null   float64\n",
            "dtypes: float64(3), int64(1), object(4)\n",
            "memory usage: 332.7+ KB\n"
          ],
          "name": "stdout"
        }
      ]
    },
    {
      "cell_type": "code",
      "metadata": {
        "id": "vmi4N8jUvcHA",
        "colab_type": "code",
        "outputId": "bb98b31c-59fc-4887-8081-a6783be29763",
        "colab": {
          "base_uri": "https://localhost:8080/",
          "height": 85
        }
      },
      "source": [
        "#Patient state\n",
        "patientinfo['state'].value_counts()"
      ],
      "execution_count": 11,
      "outputs": [
        {
          "output_type": "execute_result",
          "data": {
            "text/plain": [
              "isolated    1747\n",
              "released    1439\n",
              "deceased      67\n",
              "Name: state, dtype: int64"
            ]
          },
          "metadata": {
            "tags": []
          },
          "execution_count": 11
        }
      ]
    },
    {
      "cell_type": "code",
      "metadata": {
        "id": "hrBk1JQbvcHD",
        "colab_type": "code",
        "outputId": "38cea821-64be-4a0e-8dcf-5055e9a9833f",
        "colab": {
          "base_uri": "https://localhost:8080/",
          "height": 1000
        }
      },
      "source": [
        "#Patient across city\n",
        "print(patientinfo['city'].value_counts(), '\\n')\n",
        "print(patientroute['city'].value_counts(), \"\\n\")\n",
        "\n",
        "\n",
        "print(patientinfo['province'].value_counts(), '\\n')\n",
        "print(patientroute['province'].value_counts())"
      ],
      "execution_count": 10,
      "outputs": [
        {
          "output_type": "stream",
          "text": [
            "Gyeongsan-si     630\n",
            "Seongnam-si      123\n",
            "Cheonan-si       105\n",
            "Bucheon-si        73\n",
            "Bonghwa-gun       71\n",
            "                ... \n",
            "Taean-gun          1\n",
            "Iksan-si           1\n",
            "Gyeryong-si        1\n",
            "Danyang-gun        1\n",
            "Sancheong-gun      1\n",
            "Name: city, Length: 150, dtype: int64 \n",
            "\n",
            "Cheonan-si        465\n",
            "Jung-gu           308\n",
            "Wonju-si          274\n",
            "Gangnam-gu        173\n",
            "Guro-gu           162\n",
            "                 ... \n",
            "Dongducheon-si      1\n",
            "Naju-si             1\n",
            "Osan-si             1\n",
            "Yeoncheon-gun       1\n",
            "Cheongsong-gun      1\n",
            "Name: city, Length: 149, dtype: int64 \n",
            "\n",
            "Gyeongsangbuk-do     1204\n",
            "Gyeonggi-do           634\n",
            "Seoul                 610\n",
            "Chungcheongnam-do     139\n",
            "Busan                 123\n",
            "Gyeongsangnam-do      114\n",
            "Incheon                87\n",
            "Daegu                  63\n",
            "Sejong                 46\n",
            "Chungcheongbuk-do      44\n",
            "Ulsan                  42\n",
            "Daejeon                39\n",
            "Gangwon-do             37\n",
            "Gwangju                27\n",
            "Jeollabuk-do           17\n",
            "Jeollanam-do           15\n",
            "Jeju-do                12\n",
            "Name: province, dtype: int64 \n",
            "\n",
            "Seoul                1711\n",
            "Busan                 679\n",
            "Chungcheongnam-do     634\n",
            "Gyeongsangbuk-do      598\n",
            "Gangwon-do            307\n",
            "Incheon               276\n",
            "Daegu                 261\n",
            "Gyeongsangnam-do      237\n",
            "Gyeonggi-do           182\n",
            "Chungcheongbuk-do     141\n",
            "Gwangju               119\n",
            "Ulsan                  62\n",
            "Daejeon                45\n",
            "Jeollanam-do           42\n",
            "Jeollabuk-do           14\n",
            "Jeju-do                13\n",
            "Name: province, dtype: int64\n"
          ],
          "name": "stdout"
        }
      ]
    },
    {
      "cell_type": "code",
      "metadata": {
        "id": "IQfUxuOPvcHF",
        "colab_type": "code",
        "outputId": "0b91075a-e982-4051-eb9f-c9ca1a0d1987",
        "colab": {
          "base_uri": "https://localhost:8080/",
          "height": 297
        }
      },
      "source": [
        "patientroute.describe()"
      ],
      "execution_count": 13,
      "outputs": [
        {
          "output_type": "execute_result",
          "data": {
            "text/html": [
              "<div>\n",
              "<style scoped>\n",
              "    .dataframe tbody tr th:only-of-type {\n",
              "        vertical-align: middle;\n",
              "    }\n",
              "\n",
              "    .dataframe tbody tr th {\n",
              "        vertical-align: top;\n",
              "    }\n",
              "\n",
              "    .dataframe thead th {\n",
              "        text-align: right;\n",
              "    }\n",
              "</style>\n",
              "<table border=\"1\" class=\"dataframe\">\n",
              "  <thead>\n",
              "    <tr style=\"text-align: right;\">\n",
              "      <th></th>\n",
              "      <th>patient_id</th>\n",
              "      <th>global_num</th>\n",
              "      <th>latitude</th>\n",
              "      <th>longitude</th>\n",
              "    </tr>\n",
              "  </thead>\n",
              "  <tbody>\n",
              "    <tr>\n",
              "      <th>count</th>\n",
              "      <td>5.321000e+03</td>\n",
              "      <td>1081.000000</td>\n",
              "      <td>5321.000000</td>\n",
              "      <td>5321.000000</td>\n",
              "    </tr>\n",
              "    <tr>\n",
              "      <th>mean</th>\n",
              "      <td>2.666089e+09</td>\n",
              "      <td>2700.370953</td>\n",
              "      <td>36.652024</td>\n",
              "      <td>127.704122</td>\n",
              "    </tr>\n",
              "    <tr>\n",
              "      <th>std</th>\n",
              "      <td>1.993828e+09</td>\n",
              "      <td>2874.370561</td>\n",
              "      <td>0.947463</td>\n",
              "      <td>0.923083</td>\n",
              "    </tr>\n",
              "    <tr>\n",
              "      <th>min</th>\n",
              "      <td>1.000000e+09</td>\n",
              "      <td>2.000000</td>\n",
              "      <td>33.454642</td>\n",
              "      <td>126.301005</td>\n",
              "    </tr>\n",
              "    <tr>\n",
              "      <th>25%</th>\n",
              "      <td>1.000000e+09</td>\n",
              "      <td>298.000000</td>\n",
              "      <td>35.856172</td>\n",
              "      <td>126.958035</td>\n",
              "    </tr>\n",
              "    <tr>\n",
              "      <th>50%</th>\n",
              "      <td>1.300000e+09</td>\n",
              "      <td>1370.000000</td>\n",
              "      <td>36.824764</td>\n",
              "      <td>127.122581</td>\n",
              "    </tr>\n",
              "    <tr>\n",
              "      <th>75%</th>\n",
              "      <td>4.100000e+09</td>\n",
              "      <td>4224.000000</td>\n",
              "      <td>37.509682</td>\n",
              "      <td>128.628476</td>\n",
              "    </tr>\n",
              "    <tr>\n",
              "      <th>max</th>\n",
              "      <td>6.100000e+09</td>\n",
              "      <td>9082.000000</td>\n",
              "      <td>38.193169</td>\n",
              "      <td>129.475746</td>\n",
              "    </tr>\n",
              "  </tbody>\n",
              "</table>\n",
              "</div>"
            ],
            "text/plain": [
              "         patient_id   global_num     latitude    longitude\n",
              "count  5.321000e+03  1081.000000  5321.000000  5321.000000\n",
              "mean   2.666089e+09  2700.370953    36.652024   127.704122\n",
              "std    1.993828e+09  2874.370561     0.947463     0.923083\n",
              "min    1.000000e+09     2.000000    33.454642   126.301005\n",
              "25%    1.000000e+09   298.000000    35.856172   126.958035\n",
              "50%    1.300000e+09  1370.000000    36.824764   127.122581\n",
              "75%    4.100000e+09  4224.000000    37.509682   128.628476\n",
              "max    6.100000e+09  9082.000000    38.193169   129.475746"
            ]
          },
          "metadata": {
            "tags": []
          },
          "execution_count": 13
        }
      ]
    },
    {
      "cell_type": "markdown",
      "metadata": {
        "id": "lKIFLS54vcHI",
        "colab_type": "text"
      },
      "source": [
        "## Time Section"
      ]
    },
    {
      "cell_type": "code",
      "metadata": {
        "id": "UCf4jxkvvcHJ",
        "colab_type": "code",
        "outputId": "8e5ac49d-96bd-444a-cf5d-cdea1f72409f",
        "colab": {
          "base_uri": "https://localhost:8080/",
          "height": 255
        }
      },
      "source": [
        "time.info()"
      ],
      "execution_count": 14,
      "outputs": [
        {
          "output_type": "stream",
          "text": [
            "<class 'pandas.core.frame.DataFrame'>\n",
            "RangeIndex: 85 entries, 0 to 84\n",
            "Data columns (total 7 columns):\n",
            " #   Column     Non-Null Count  Dtype \n",
            "---  ------     --------------  ----- \n",
            " 0   date       85 non-null     object\n",
            " 1   time       85 non-null     int64 \n",
            " 2   test       85 non-null     int64 \n",
            " 3   negative   85 non-null     int64 \n",
            " 4   confirmed  85 non-null     int64 \n",
            " 5   released   85 non-null     int64 \n",
            " 6   deceased   85 non-null     int64 \n",
            "dtypes: int64(6), object(1)\n",
            "memory usage: 4.8+ KB\n"
          ],
          "name": "stdout"
        }
      ]
    },
    {
      "cell_type": "code",
      "metadata": {
        "id": "lQqLOf7cvcHL",
        "colab_type": "code",
        "outputId": "4ab408c0-db80-4285-8257-b8a1cceac741",
        "colab": {
          "base_uri": "https://localhost:8080/",
          "height": 297
        }
      },
      "source": [
        "time.describe()"
      ],
      "execution_count": 15,
      "outputs": [
        {
          "output_type": "execute_result",
          "data": {
            "text/html": [
              "<div>\n",
              "<style scoped>\n",
              "    .dataframe tbody tr th:only-of-type {\n",
              "        vertical-align: middle;\n",
              "    }\n",
              "\n",
              "    .dataframe tbody tr th {\n",
              "        vertical-align: top;\n",
              "    }\n",
              "\n",
              "    .dataframe thead th {\n",
              "        text-align: right;\n",
              "    }\n",
              "</style>\n",
              "<table border=\"1\" class=\"dataframe\">\n",
              "  <thead>\n",
              "    <tr style=\"text-align: right;\">\n",
              "      <th></th>\n",
              "      <th>time</th>\n",
              "      <th>test</th>\n",
              "      <th>negative</th>\n",
              "      <th>confirmed</th>\n",
              "      <th>released</th>\n",
              "      <th>deceased</th>\n",
              "    </tr>\n",
              "  </thead>\n",
              "  <tbody>\n",
              "    <tr>\n",
              "      <th>count</th>\n",
              "      <td>85.000000</td>\n",
              "      <td>85.000000</td>\n",
              "      <td>85.000000</td>\n",
              "      <td>85.000000</td>\n",
              "      <td>85.000000</td>\n",
              "      <td>85.000000</td>\n",
              "    </tr>\n",
              "    <tr>\n",
              "      <th>mean</th>\n",
              "      <td>7.905882</td>\n",
              "      <td>176692.447059</td>\n",
              "      <td>160680.811765</td>\n",
              "      <td>4573.588235</td>\n",
              "      <td>1691.094118</td>\n",
              "      <td>60.894118</td>\n",
              "    </tr>\n",
              "    <tr>\n",
              "      <th>std</th>\n",
              "      <td>8.046921</td>\n",
              "      <td>183124.164954</td>\n",
              "      <td>173503.582977</td>\n",
              "      <td>4367.632764</td>\n",
              "      <td>2549.754450</td>\n",
              "      <td>72.455245</td>\n",
              "    </tr>\n",
              "    <tr>\n",
              "      <th>min</th>\n",
              "      <td>0.000000</td>\n",
              "      <td>1.000000</td>\n",
              "      <td>0.000000</td>\n",
              "      <td>1.000000</td>\n",
              "      <td>0.000000</td>\n",
              "      <td>0.000000</td>\n",
              "    </tr>\n",
              "    <tr>\n",
              "      <th>25%</th>\n",
              "      <td>0.000000</td>\n",
              "      <td>3110.000000</td>\n",
              "      <td>2552.000000</td>\n",
              "      <td>27.000000</td>\n",
              "      <td>4.000000</td>\n",
              "      <td>0.000000</td>\n",
              "    </tr>\n",
              "    <tr>\n",
              "      <th>50%</th>\n",
              "      <td>0.000000</td>\n",
              "      <td>109591.000000</td>\n",
              "      <td>71580.000000</td>\n",
              "      <td>4212.000000</td>\n",
              "      <td>31.000000</td>\n",
              "      <td>22.000000</td>\n",
              "    </tr>\n",
              "    <tr>\n",
              "      <th>75%</th>\n",
              "      <td>16.000000</td>\n",
              "      <td>338036.000000</td>\n",
              "      <td>315447.000000</td>\n",
              "      <td>8961.000000</td>\n",
              "      <td>3166.000000</td>\n",
              "      <td>111.000000</td>\n",
              "    </tr>\n",
              "    <tr>\n",
              "      <th>max</th>\n",
              "      <td>16.000000</td>\n",
              "      <td>518743.000000</td>\n",
              "      <td>494815.000000</td>\n",
              "      <td>10537.000000</td>\n",
              "      <td>7447.000000</td>\n",
              "      <td>217.000000</td>\n",
              "    </tr>\n",
              "  </tbody>\n",
              "</table>\n",
              "</div>"
            ],
            "text/plain": [
              "            time           test  ...     released    deceased\n",
              "count  85.000000      85.000000  ...    85.000000   85.000000\n",
              "mean    7.905882  176692.447059  ...  1691.094118   60.894118\n",
              "std     8.046921  183124.164954  ...  2549.754450   72.455245\n",
              "min     0.000000       1.000000  ...     0.000000    0.000000\n",
              "25%     0.000000    3110.000000  ...     4.000000    0.000000\n",
              "50%     0.000000  109591.000000  ...    31.000000   22.000000\n",
              "75%    16.000000  338036.000000  ...  3166.000000  111.000000\n",
              "max    16.000000  518743.000000  ...  7447.000000  217.000000\n",
              "\n",
              "[8 rows x 6 columns]"
            ]
          },
          "metadata": {
            "tags": []
          },
          "execution_count": 15
        }
      ]
    },
    {
      "cell_type": "code",
      "metadata": {
        "id": "RXLlzOLEvcHN",
        "colab_type": "code",
        "outputId": "df0b1b16-2fd2-4bd0-d5b7-17521028605e",
        "colab": {
          "base_uri": "https://localhost:8080/",
          "height": 221
        }
      },
      "source": [
        "timeage.info()"
      ],
      "execution_count": 16,
      "outputs": [
        {
          "output_type": "stream",
          "text": [
            "<class 'pandas.core.frame.DataFrame'>\n",
            "RangeIndex: 387 entries, 0 to 386\n",
            "Data columns (total 5 columns):\n",
            " #   Column     Non-Null Count  Dtype \n",
            "---  ------     --------------  ----- \n",
            " 0   date       387 non-null    object\n",
            " 1   time       387 non-null    int64 \n",
            " 2   age        387 non-null    object\n",
            " 3   confirmed  387 non-null    int64 \n",
            " 4   deceased   387 non-null    int64 \n",
            "dtypes: int64(3), object(2)\n",
            "memory usage: 15.2+ KB\n"
          ],
          "name": "stdout"
        }
      ]
    },
    {
      "cell_type": "code",
      "metadata": {
        "id": "uI0nexMlvcHP",
        "colab_type": "code",
        "outputId": "a06ed2a5-709d-4a36-bae4-ef92c6b85df0",
        "colab": {
          "base_uri": "https://localhost:8080/",
          "height": 297
        }
      },
      "source": [
        "timeage.describe()"
      ],
      "execution_count": 17,
      "outputs": [
        {
          "output_type": "execute_result",
          "data": {
            "text/html": [
              "<div>\n",
              "<style scoped>\n",
              "    .dataframe tbody tr th:only-of-type {\n",
              "        vertical-align: middle;\n",
              "    }\n",
              "\n",
              "    .dataframe tbody tr th {\n",
              "        vertical-align: top;\n",
              "    }\n",
              "\n",
              "    .dataframe thead th {\n",
              "        text-align: right;\n",
              "    }\n",
              "</style>\n",
              "<table border=\"1\" class=\"dataframe\">\n",
              "  <thead>\n",
              "    <tr style=\"text-align: right;\">\n",
              "      <th></th>\n",
              "      <th>time</th>\n",
              "      <th>confirmed</th>\n",
              "      <th>deceased</th>\n",
              "    </tr>\n",
              "  </thead>\n",
              "  <tbody>\n",
              "    <tr>\n",
              "      <th>count</th>\n",
              "      <td>387.0</td>\n",
              "      <td>387.000000</td>\n",
              "      <td>387.000000</td>\n",
              "    </tr>\n",
              "    <tr>\n",
              "      <th>mean</th>\n",
              "      <td>0.0</td>\n",
              "      <td>963.503876</td>\n",
              "      <td>13.105943</td>\n",
              "    </tr>\n",
              "    <tr>\n",
              "      <th>std</th>\n",
              "      <td>0.0</td>\n",
              "      <td>712.198877</td>\n",
              "      <td>22.087828</td>\n",
              "    </tr>\n",
              "    <tr>\n",
              "      <th>min</th>\n",
              "      <td>0.0</td>\n",
              "      <td>32.000000</td>\n",
              "      <td>0.000000</td>\n",
              "    </tr>\n",
              "    <tr>\n",
              "      <th>25%</th>\n",
              "      <td>0.0</td>\n",
              "      <td>440.000000</td>\n",
              "      <td>0.000000</td>\n",
              "    </tr>\n",
              "    <tr>\n",
              "      <th>50%</th>\n",
              "      <td>0.0</td>\n",
              "      <td>833.000000</td>\n",
              "      <td>1.000000</td>\n",
              "    </tr>\n",
              "    <tr>\n",
              "      <th>75%</th>\n",
              "      <td>0.0</td>\n",
              "      <td>1313.000000</td>\n",
              "      <td>16.500000</td>\n",
              "    </tr>\n",
              "    <tr>\n",
              "      <th>max</th>\n",
              "      <td>0.0</td>\n",
              "      <td>2879.000000</td>\n",
              "      <td>103.000000</td>\n",
              "    </tr>\n",
              "  </tbody>\n",
              "</table>\n",
              "</div>"
            ],
            "text/plain": [
              "        time    confirmed    deceased\n",
              "count  387.0   387.000000  387.000000\n",
              "mean     0.0   963.503876   13.105943\n",
              "std      0.0   712.198877   22.087828\n",
              "min      0.0    32.000000    0.000000\n",
              "25%      0.0   440.000000    0.000000\n",
              "50%      0.0   833.000000    1.000000\n",
              "75%      0.0  1313.000000   16.500000\n",
              "max      0.0  2879.000000  103.000000"
            ]
          },
          "metadata": {
            "tags": []
          },
          "execution_count": 17
        }
      ]
    },
    {
      "cell_type": "code",
      "metadata": {
        "id": "Ta8h-aa4vcHR",
        "colab_type": "code",
        "outputId": "da6cdcd7-9b50-4857-e453-545f99fa5e76",
        "colab": {
          "base_uri": "https://localhost:8080/",
          "height": 221
        }
      },
      "source": [
        "timegender.info()"
      ],
      "execution_count": 18,
      "outputs": [
        {
          "output_type": "stream",
          "text": [
            "<class 'pandas.core.frame.DataFrame'>\n",
            "RangeIndex: 86 entries, 0 to 85\n",
            "Data columns (total 5 columns):\n",
            " #   Column     Non-Null Count  Dtype \n",
            "---  ------     --------------  ----- \n",
            " 0   date       86 non-null     object\n",
            " 1   time       86 non-null     int64 \n",
            " 2   sex        86 non-null     object\n",
            " 3   confirmed  86 non-null     int64 \n",
            " 4   deceased   86 non-null     int64 \n",
            "dtypes: int64(3), object(2)\n",
            "memory usage: 3.5+ KB\n"
          ],
          "name": "stdout"
        }
      ]
    },
    {
      "cell_type": "code",
      "metadata": {
        "id": "lopncrzWvcHT",
        "colab_type": "code",
        "outputId": "9f326dd0-26ce-43a6-f56e-c649062a28af",
        "colab": {
          "base_uri": "https://localhost:8080/",
          "height": 297
        }
      },
      "source": [
        "timegender.describe()"
      ],
      "execution_count": 19,
      "outputs": [
        {
          "output_type": "execute_result",
          "data": {
            "text/html": [
              "<div>\n",
              "<style scoped>\n",
              "    .dataframe tbody tr th:only-of-type {\n",
              "        vertical-align: middle;\n",
              "    }\n",
              "\n",
              "    .dataframe tbody tr th {\n",
              "        vertical-align: top;\n",
              "    }\n",
              "\n",
              "    .dataframe thead th {\n",
              "        text-align: right;\n",
              "    }\n",
              "</style>\n",
              "<table border=\"1\" class=\"dataframe\">\n",
              "  <thead>\n",
              "    <tr style=\"text-align: right;\">\n",
              "      <th></th>\n",
              "      <th>time</th>\n",
              "      <th>confirmed</th>\n",
              "      <th>deceased</th>\n",
              "    </tr>\n",
              "  </thead>\n",
              "  <tbody>\n",
              "    <tr>\n",
              "      <th>count</th>\n",
              "      <td>86.0</td>\n",
              "      <td>86.000000</td>\n",
              "      <td>86.000000</td>\n",
              "    </tr>\n",
              "    <tr>\n",
              "      <th>mean</th>\n",
              "      <td>0.0</td>\n",
              "      <td>4335.651163</td>\n",
              "      <td>58.965116</td>\n",
              "    </tr>\n",
              "    <tr>\n",
              "      <th>std</th>\n",
              "      <td>0.0</td>\n",
              "      <td>1257.367406</td>\n",
              "      <td>30.655370</td>\n",
              "    </tr>\n",
              "    <tr>\n",
              "      <th>min</th>\n",
              "      <td>0.0</td>\n",
              "      <td>1591.000000</td>\n",
              "      <td>9.000000</td>\n",
              "    </tr>\n",
              "    <tr>\n",
              "      <th>25%</th>\n",
              "      <td>0.0</td>\n",
              "      <td>3345.750000</td>\n",
              "      <td>33.250000</td>\n",
              "    </tr>\n",
              "    <tr>\n",
              "      <th>50%</th>\n",
              "      <td>0.0</td>\n",
              "      <td>4174.000000</td>\n",
              "      <td>56.500000</td>\n",
              "    </tr>\n",
              "    <tr>\n",
              "      <th>75%</th>\n",
              "      <td>0.0</td>\n",
              "      <td>5494.750000</td>\n",
              "      <td>83.750000</td>\n",
              "    </tr>\n",
              "    <tr>\n",
              "      <th>max</th>\n",
              "      <td>0.0</td>\n",
              "      <td>6294.000000</td>\n",
              "      <td>115.000000</td>\n",
              "    </tr>\n",
              "  </tbody>\n",
              "</table>\n",
              "</div>"
            ],
            "text/plain": [
              "       time    confirmed    deceased\n",
              "count  86.0    86.000000   86.000000\n",
              "mean    0.0  4335.651163   58.965116\n",
              "std     0.0  1257.367406   30.655370\n",
              "min     0.0  1591.000000    9.000000\n",
              "25%     0.0  3345.750000   33.250000\n",
              "50%     0.0  4174.000000   56.500000\n",
              "75%     0.0  5494.750000   83.750000\n",
              "max     0.0  6294.000000  115.000000"
            ]
          },
          "metadata": {
            "tags": []
          },
          "execution_count": 19
        }
      ]
    },
    {
      "cell_type": "code",
      "metadata": {
        "id": "RgWOJnHqvcHW",
        "colab_type": "code",
        "outputId": "7bff9dbc-fe8b-4228-a1c2-e01d3e8cff9b",
        "colab": {
          "base_uri": "https://localhost:8080/",
          "height": 68
        }
      },
      "source": [
        "#gender distribution\n",
        "timegender['sex'].value_counts()"
      ],
      "execution_count": 20,
      "outputs": [
        {
          "output_type": "execute_result",
          "data": {
            "text/plain": [
              "female    43\n",
              "male      43\n",
              "Name: sex, dtype: int64"
            ]
          },
          "metadata": {
            "tags": []
          },
          "execution_count": 20
        }
      ]
    },
    {
      "cell_type": "code",
      "metadata": {
        "id": "lHQji629vcHY",
        "colab_type": "code",
        "outputId": "501b02fd-a8e8-40de-d23c-b6f8bf68a98c",
        "colab": {
          "base_uri": "https://localhost:8080/",
          "height": 238
        }
      },
      "source": [
        "timeprovince.info()"
      ],
      "execution_count": 22,
      "outputs": [
        {
          "output_type": "stream",
          "text": [
            "<class 'pandas.core.frame.DataFrame'>\n",
            "RangeIndex: 1445 entries, 0 to 1444\n",
            "Data columns (total 6 columns):\n",
            " #   Column     Non-Null Count  Dtype \n",
            "---  ------     --------------  ----- \n",
            " 0   date       1445 non-null   object\n",
            " 1   time       1445 non-null   int64 \n",
            " 2   province   1445 non-null   object\n",
            " 3   confirmed  1445 non-null   int64 \n",
            " 4   released   1445 non-null   int64 \n",
            " 5   deceased   1445 non-null   int64 \n",
            "dtypes: int64(4), object(2)\n",
            "memory usage: 67.9+ KB\n"
          ],
          "name": "stdout"
        }
      ]
    },
    {
      "cell_type": "code",
      "metadata": {
        "id": "DJWj4xGBvcHb",
        "colab_type": "code",
        "outputId": "7ceb456d-034a-498e-bdac-183e96729d26",
        "colab": {
          "base_uri": "https://localhost:8080/",
          "height": 323
        }
      },
      "source": [
        "timeprovince['province'].value_counts()"
      ],
      "execution_count": 21,
      "outputs": [
        {
          "output_type": "execute_result",
          "data": {
            "text/plain": [
              "Gyeonggi-do          85\n",
              "Chungcheongnam-do    85\n",
              "Jeollanam-do         85\n",
              "Gangwon-do           85\n",
              "Incheon              85\n",
              "Daejeon              85\n",
              "Sejong               85\n",
              "Busan                85\n",
              "Gyeongsangnam-do     85\n",
              "Daegu                85\n",
              "Jeollabuk-do         85\n",
              "Ulsan                85\n",
              "Gwangju              85\n",
              "Seoul                85\n",
              "Chungcheongbuk-do    85\n",
              "Gyeongsangbuk-do     85\n",
              "Jeju-do              85\n",
              "Name: province, dtype: int64"
            ]
          },
          "metadata": {
            "tags": []
          },
          "execution_count": 21
        }
      ]
    },
    {
      "cell_type": "markdown",
      "metadata": {
        "id": "NYgmjbNTvcHd",
        "colab_type": "text"
      },
      "source": [
        "## Region Section"
      ]
    },
    {
      "cell_type": "code",
      "metadata": {
        "id": "XupnhXeuvcHe",
        "colab_type": "code",
        "outputId": "a95eedfa-7dcd-4df6-fc91-4b627011f685",
        "colab": {
          "base_uri": "https://localhost:8080/",
          "height": 340
        }
      },
      "source": [
        "region.info()"
      ],
      "execution_count": 23,
      "outputs": [
        {
          "output_type": "stream",
          "text": [
            "<class 'pandas.core.frame.DataFrame'>\n",
            "RangeIndex: 244 entries, 0 to 243\n",
            "Data columns (total 12 columns):\n",
            " #   Column                    Non-Null Count  Dtype  \n",
            "---  ------                    --------------  -----  \n",
            " 0   code                      244 non-null    int64  \n",
            " 1   province                  244 non-null    object \n",
            " 2   city                      244 non-null    object \n",
            " 3   latitude                  244 non-null    float64\n",
            " 4   longitude                 244 non-null    float64\n",
            " 5   elementary_school_count   244 non-null    int64  \n",
            " 6   kindergarten_count        244 non-null    int64  \n",
            " 7   university_count          244 non-null    int64  \n",
            " 8   academy_ratio             244 non-null    float64\n",
            " 9   elderly_population_ratio  244 non-null    float64\n",
            " 10  elderly_alone_ratio       244 non-null    float64\n",
            " 11  nursing_home_count        244 non-null    int64  \n",
            "dtypes: float64(5), int64(5), object(2)\n",
            "memory usage: 23.0+ KB\n"
          ],
          "name": "stdout"
        }
      ]
    },
    {
      "cell_type": "code",
      "metadata": {
        "id": "G2dcTZpHvcHf",
        "colab_type": "code",
        "outputId": "d855aee0-ad33-40d9-a085-5bce4bc46e3f",
        "colab": {
          "base_uri": "https://localhost:8080/",
          "height": 297
        }
      },
      "source": [
        "region.describe()"
      ],
      "execution_count": 24,
      "outputs": [
        {
          "output_type": "execute_result",
          "data": {
            "text/html": [
              "<div>\n",
              "<style scoped>\n",
              "    .dataframe tbody tr th:only-of-type {\n",
              "        vertical-align: middle;\n",
              "    }\n",
              "\n",
              "    .dataframe tbody tr th {\n",
              "        vertical-align: top;\n",
              "    }\n",
              "\n",
              "    .dataframe thead th {\n",
              "        text-align: right;\n",
              "    }\n",
              "</style>\n",
              "<table border=\"1\" class=\"dataframe\">\n",
              "  <thead>\n",
              "    <tr style=\"text-align: right;\">\n",
              "      <th></th>\n",
              "      <th>code</th>\n",
              "      <th>latitude</th>\n",
              "      <th>longitude</th>\n",
              "      <th>elementary_school_count</th>\n",
              "      <th>kindergarten_count</th>\n",
              "      <th>university_count</th>\n",
              "      <th>academy_ratio</th>\n",
              "      <th>elderly_population_ratio</th>\n",
              "      <th>elderly_alone_ratio</th>\n",
              "      <th>nursing_home_count</th>\n",
              "    </tr>\n",
              "  </thead>\n",
              "  <tbody>\n",
              "    <tr>\n",
              "      <th>count</th>\n",
              "      <td>244.000000</td>\n",
              "      <td>244.000000</td>\n",
              "      <td>244.000000</td>\n",
              "      <td>244.000000</td>\n",
              "      <td>244.000000</td>\n",
              "      <td>244.000000</td>\n",
              "      <td>244.000000</td>\n",
              "      <td>244.000000</td>\n",
              "      <td>244.000000</td>\n",
              "      <td>244.000000</td>\n",
              "    </tr>\n",
              "    <tr>\n",
              "      <th>mean</th>\n",
              "      <td>32912.090164</td>\n",
              "      <td>36.396996</td>\n",
              "      <td>127.661401</td>\n",
              "      <td>74.180328</td>\n",
              "      <td>107.901639</td>\n",
              "      <td>4.151639</td>\n",
              "      <td>1.294754</td>\n",
              "      <td>20.923730</td>\n",
              "      <td>10.644672</td>\n",
              "      <td>1159.258197</td>\n",
              "    </tr>\n",
              "    <tr>\n",
              "      <th>std</th>\n",
              "      <td>19373.349736</td>\n",
              "      <td>1.060304</td>\n",
              "      <td>0.904781</td>\n",
              "      <td>402.713482</td>\n",
              "      <td>588.788320</td>\n",
              "      <td>22.513041</td>\n",
              "      <td>0.592898</td>\n",
              "      <td>8.087428</td>\n",
              "      <td>5.604886</td>\n",
              "      <td>6384.185085</td>\n",
              "    </tr>\n",
              "    <tr>\n",
              "      <th>min</th>\n",
              "      <td>10000.000000</td>\n",
              "      <td>33.488936</td>\n",
              "      <td>126.263554</td>\n",
              "      <td>4.000000</td>\n",
              "      <td>4.000000</td>\n",
              "      <td>0.000000</td>\n",
              "      <td>0.190000</td>\n",
              "      <td>7.690000</td>\n",
              "      <td>3.300000</td>\n",
              "      <td>11.000000</td>\n",
              "    </tr>\n",
              "    <tr>\n",
              "      <th>25%</th>\n",
              "      <td>14027.500000</td>\n",
              "      <td>35.405263</td>\n",
              "      <td>126.927663</td>\n",
              "      <td>14.750000</td>\n",
              "      <td>16.000000</td>\n",
              "      <td>0.000000</td>\n",
              "      <td>0.870000</td>\n",
              "      <td>14.117500</td>\n",
              "      <td>6.100000</td>\n",
              "      <td>111.000000</td>\n",
              "    </tr>\n",
              "    <tr>\n",
              "      <th>50%</th>\n",
              "      <td>30075.000000</td>\n",
              "      <td>36.386601</td>\n",
              "      <td>127.384250</td>\n",
              "      <td>22.000000</td>\n",
              "      <td>31.000000</td>\n",
              "      <td>1.000000</td>\n",
              "      <td>1.270000</td>\n",
              "      <td>18.530000</td>\n",
              "      <td>8.750000</td>\n",
              "      <td>300.000000</td>\n",
              "    </tr>\n",
              "    <tr>\n",
              "      <th>75%</th>\n",
              "      <td>51062.500000</td>\n",
              "      <td>37.466119</td>\n",
              "      <td>128.473953</td>\n",
              "      <td>36.250000</td>\n",
              "      <td>55.250000</td>\n",
              "      <td>3.000000</td>\n",
              "      <td>1.612500</td>\n",
              "      <td>27.262500</td>\n",
              "      <td>14.625000</td>\n",
              "      <td>694.500000</td>\n",
              "    </tr>\n",
              "    <tr>\n",
              "      <th>max</th>\n",
              "      <td>80000.000000</td>\n",
              "      <td>38.380571</td>\n",
              "      <td>130.905883</td>\n",
              "      <td>6087.000000</td>\n",
              "      <td>8837.000000</td>\n",
              "      <td>340.000000</td>\n",
              "      <td>4.180000</td>\n",
              "      <td>40.260000</td>\n",
              "      <td>24.700000</td>\n",
              "      <td>94865.000000</td>\n",
              "    </tr>\n",
              "  </tbody>\n",
              "</table>\n",
              "</div>"
            ],
            "text/plain": [
              "               code    latitude  ...  elderly_alone_ratio  nursing_home_count\n",
              "count    244.000000  244.000000  ...           244.000000          244.000000\n",
              "mean   32912.090164   36.396996  ...            10.644672         1159.258197\n",
              "std    19373.349736    1.060304  ...             5.604886         6384.185085\n",
              "min    10000.000000   33.488936  ...             3.300000           11.000000\n",
              "25%    14027.500000   35.405263  ...             6.100000          111.000000\n",
              "50%    30075.000000   36.386601  ...             8.750000          300.000000\n",
              "75%    51062.500000   37.466119  ...            14.625000          694.500000\n",
              "max    80000.000000   38.380571  ...            24.700000        94865.000000\n",
              "\n",
              "[8 rows x 10 columns]"
            ]
          },
          "metadata": {
            "tags": []
          },
          "execution_count": 24
        }
      ]
    },
    {
      "cell_type": "code",
      "metadata": {
        "id": "SE0yFnTMvcHh",
        "colab_type": "code",
        "outputId": "ca43bdbc-f7a5-446c-904e-35e9b20b3bc0",
        "colab": {
          "base_uri": "https://localhost:8080/",
          "height": 578
        }
      },
      "source": [
        "print(region['province'].value_counts(), \"\\n\")\n",
        "print(region['city'].value_counts(), \"\\n\")"
      ],
      "execution_count": 25,
      "outputs": [
        {
          "output_type": "stream",
          "text": [
            "Gyeonggi-do          32\n",
            "Seoul                26\n",
            "Gyeongsangbuk-do     24\n",
            "Jeollanam-do         23\n",
            "Gangwon-do           19\n",
            "Gyeongsangnam-do     19\n",
            "Busan                17\n",
            "Chungcheongnam-do    16\n",
            "Jeollabuk-do         15\n",
            "Chungcheongbuk-do    12\n",
            "Incheon              11\n",
            "Daegu                 9\n",
            "Ulsan                 6\n",
            "Gwangju               6\n",
            "Daejeon               6\n",
            "Korea                 1\n",
            "Sejong                1\n",
            "Jeju-do               1\n",
            "Name: province, dtype: int64 \n",
            "\n",
            "Jung-gu        6\n",
            "Dong-gu        6\n",
            "Seo-gu         5\n",
            "Nam-gu         4\n",
            "Buk-gu         4\n",
            "              ..\n",
            "Muan-gun       1\n",
            "Busan          1\n",
            "Jangsu-gun     1\n",
            "Daedeok-gu     1\n",
            "Jungnang-gu    1\n",
            "Name: city, Length: 222, dtype: int64 \n",
            "\n"
          ],
          "name": "stdout"
        }
      ]
    },
    {
      "cell_type": "markdown",
      "metadata": {
        "id": "mLG3SxI8vcHj",
        "colab_type": "text"
      },
      "source": [
        "## Weather section"
      ]
    },
    {
      "cell_type": "code",
      "metadata": {
        "id": "B6EnwHIkvcHj",
        "colab_type": "code",
        "outputId": "bd1af86e-b4f4-4efd-e22f-31f4eb0f45d6",
        "colab": {
          "base_uri": "https://localhost:8080/",
          "height": 306
        }
      },
      "source": [
        "weather.info()"
      ],
      "execution_count": 26,
      "outputs": [
        {
          "output_type": "stream",
          "text": [
            "<class 'pandas.core.frame.DataFrame'>\n",
            "RangeIndex: 25023 entries, 0 to 25022\n",
            "Data columns (total 10 columns):\n",
            " #   Column                 Non-Null Count  Dtype  \n",
            "---  ------                 --------------  -----  \n",
            " 0   code                   25023 non-null  int64  \n",
            " 1   province               25023 non-null  object \n",
            " 2   date                   25023 non-null  object \n",
            " 3   avg_temp               25008 non-null  float64\n",
            " 4   min_temp               25018 non-null  float64\n",
            " 5   max_temp               25020 non-null  float64\n",
            " 6   precipitation          25023 non-null  float64\n",
            " 7   max_wind_speed         25014 non-null  float64\n",
            " 8   most_wind_direction    24994 non-null  float64\n",
            " 9   avg_relative_humidity  25003 non-null  float64\n",
            "dtypes: float64(7), int64(1), object(2)\n",
            "memory usage: 1.9+ MB\n"
          ],
          "name": "stdout"
        }
      ]
    },
    {
      "cell_type": "code",
      "metadata": {
        "id": "Q0lnd2U-vcHl",
        "colab_type": "code",
        "outputId": "cd7b7221-9213-4fcb-dcd3-1ded7a64cb10",
        "colab": {
          "base_uri": "https://localhost:8080/",
          "height": 297
        }
      },
      "source": [
        "weather.describe()"
      ],
      "execution_count": 27,
      "outputs": [
        {
          "output_type": "execute_result",
          "data": {
            "text/html": [
              "<div>\n",
              "<style scoped>\n",
              "    .dataframe tbody tr th:only-of-type {\n",
              "        vertical-align: middle;\n",
              "    }\n",
              "\n",
              "    .dataframe tbody tr th {\n",
              "        vertical-align: top;\n",
              "    }\n",
              "\n",
              "    .dataframe thead th {\n",
              "        text-align: right;\n",
              "    }\n",
              "</style>\n",
              "<table border=\"1\" class=\"dataframe\">\n",
              "  <thead>\n",
              "    <tr style=\"text-align: right;\">\n",
              "      <th></th>\n",
              "      <th>code</th>\n",
              "      <th>avg_temp</th>\n",
              "      <th>min_temp</th>\n",
              "      <th>max_temp</th>\n",
              "      <th>precipitation</th>\n",
              "      <th>max_wind_speed</th>\n",
              "      <th>most_wind_direction</th>\n",
              "      <th>avg_relative_humidity</th>\n",
              "    </tr>\n",
              "  </thead>\n",
              "  <tbody>\n",
              "    <tr>\n",
              "      <th>count</th>\n",
              "      <td>25023.000000</td>\n",
              "      <td>25008.000000</td>\n",
              "      <td>25018.000000</td>\n",
              "      <td>25020.000000</td>\n",
              "      <td>25023.000000</td>\n",
              "      <td>25014.000000</td>\n",
              "      <td>24994.000000</td>\n",
              "      <td>25003.000000</td>\n",
              "    </tr>\n",
              "    <tr>\n",
              "      <th>mean</th>\n",
              "      <td>32124.645326</td>\n",
              "      <td>13.621057</td>\n",
              "      <td>9.437153</td>\n",
              "      <td>18.526379</td>\n",
              "      <td>3.267086</td>\n",
              "      <td>5.102778</td>\n",
              "      <td>195.947027</td>\n",
              "      <td>65.564572</td>\n",
              "    </tr>\n",
              "    <tr>\n",
              "      <th>std</th>\n",
              "      <td>20313.522756</td>\n",
              "      <td>9.636505</td>\n",
              "      <td>10.021912</td>\n",
              "      <td>9.686541</td>\n",
              "      <td>12.655798</td>\n",
              "      <td>2.022522</td>\n",
              "      <td>106.909278</td>\n",
              "      <td>17.232745</td>\n",
              "    </tr>\n",
              "    <tr>\n",
              "      <th>min</th>\n",
              "      <td>10000.000000</td>\n",
              "      <td>-14.800000</td>\n",
              "      <td>-19.200000</td>\n",
              "      <td>-11.900000</td>\n",
              "      <td>0.000000</td>\n",
              "      <td>1.000000</td>\n",
              "      <td>20.000000</td>\n",
              "      <td>10.400000</td>\n",
              "    </tr>\n",
              "    <tr>\n",
              "      <th>25%</th>\n",
              "      <td>13500.000000</td>\n",
              "      <td>5.600000</td>\n",
              "      <td>1.000000</td>\n",
              "      <td>10.500000</td>\n",
              "      <td>0.000000</td>\n",
              "      <td>3.800000</td>\n",
              "      <td>90.000000</td>\n",
              "      <td>53.500000</td>\n",
              "    </tr>\n",
              "    <tr>\n",
              "      <th>50%</th>\n",
              "      <td>20000.000000</td>\n",
              "      <td>14.100000</td>\n",
              "      <td>9.500000</td>\n",
              "      <td>19.400000</td>\n",
              "      <td>0.000000</td>\n",
              "      <td>4.700000</td>\n",
              "      <td>230.000000</td>\n",
              "      <td>66.600000</td>\n",
              "    </tr>\n",
              "    <tr>\n",
              "      <th>75%</th>\n",
              "      <td>50500.000000</td>\n",
              "      <td>21.900000</td>\n",
              "      <td>18.100000</td>\n",
              "      <td>26.600000</td>\n",
              "      <td>0.200000</td>\n",
              "      <td>6.000000</td>\n",
              "      <td>290.000000</td>\n",
              "      <td>78.600000</td>\n",
              "    </tr>\n",
              "    <tr>\n",
              "      <th>max</th>\n",
              "      <td>70000.000000</td>\n",
              "      <td>33.900000</td>\n",
              "      <td>30.300000</td>\n",
              "      <td>40.000000</td>\n",
              "      <td>310.000000</td>\n",
              "      <td>29.400000</td>\n",
              "      <td>360.000000</td>\n",
              "      <td>100.000000</td>\n",
              "    </tr>\n",
              "  </tbody>\n",
              "</table>\n",
              "</div>"
            ],
            "text/plain": [
              "               code      avg_temp  ...  most_wind_direction  avg_relative_humidity\n",
              "count  25023.000000  25008.000000  ...         24994.000000           25003.000000\n",
              "mean   32124.645326     13.621057  ...           195.947027              65.564572\n",
              "std    20313.522756      9.636505  ...           106.909278              17.232745\n",
              "min    10000.000000    -14.800000  ...            20.000000              10.400000\n",
              "25%    13500.000000      5.600000  ...            90.000000              53.500000\n",
              "50%    20000.000000     14.100000  ...           230.000000              66.600000\n",
              "75%    50500.000000     21.900000  ...           290.000000              78.600000\n",
              "max    70000.000000     33.900000  ...           360.000000             100.000000\n",
              "\n",
              "[8 rows x 8 columns]"
            ]
          },
          "metadata": {
            "tags": []
          },
          "execution_count": 27
        }
      ]
    },
    {
      "cell_type": "markdown",
      "metadata": {
        "id": "Bi3m-P9uvcHp",
        "colab_type": "text"
      },
      "source": [
        "## Search Section"
      ]
    },
    {
      "cell_type": "code",
      "metadata": {
        "id": "gjX5ByytvcHp",
        "colab_type": "code",
        "outputId": "061c4a6a-6617-4493-e128-f53d32f0942b",
        "colab": {
          "base_uri": "https://localhost:8080/",
          "height": 221
        }
      },
      "source": [
        "searchtrend.info()"
      ],
      "execution_count": 28,
      "outputs": [
        {
          "output_type": "stream",
          "text": [
            "<class 'pandas.core.frame.DataFrame'>\n",
            "RangeIndex: 1564 entries, 0 to 1563\n",
            "Data columns (total 5 columns):\n",
            " #   Column       Non-Null Count  Dtype  \n",
            "---  ------       --------------  -----  \n",
            " 0   date         1564 non-null   object \n",
            " 1   cold         1564 non-null   float64\n",
            " 2   flu          1564 non-null   float64\n",
            " 3   pneumonia    1564 non-null   float64\n",
            " 4   coronavirus  1564 non-null   float64\n",
            "dtypes: float64(4), object(1)\n",
            "memory usage: 61.2+ KB\n"
          ],
          "name": "stdout"
        }
      ]
    },
    {
      "cell_type": "code",
      "metadata": {
        "id": "xRmcKtLsvcHr",
        "colab_type": "code",
        "outputId": "fe33f710-d22e-4a0e-ebd8-ffad0e36f0d2",
        "colab": {
          "base_uri": "https://localhost:8080/",
          "height": 297
        }
      },
      "source": [
        "searchtrend.describe()"
      ],
      "execution_count": 29,
      "outputs": [
        {
          "output_type": "execute_result",
          "data": {
            "text/html": [
              "<div>\n",
              "<style scoped>\n",
              "    .dataframe tbody tr th:only-of-type {\n",
              "        vertical-align: middle;\n",
              "    }\n",
              "\n",
              "    .dataframe tbody tr th {\n",
              "        vertical-align: top;\n",
              "    }\n",
              "\n",
              "    .dataframe thead th {\n",
              "        text-align: right;\n",
              "    }\n",
              "</style>\n",
              "<table border=\"1\" class=\"dataframe\">\n",
              "  <thead>\n",
              "    <tr style=\"text-align: right;\">\n",
              "      <th></th>\n",
              "      <th>cold</th>\n",
              "      <th>flu</th>\n",
              "      <th>pneumonia</th>\n",
              "      <th>coronavirus</th>\n",
              "    </tr>\n",
              "  </thead>\n",
              "  <tbody>\n",
              "    <tr>\n",
              "      <th>count</th>\n",
              "      <td>1564.000000</td>\n",
              "      <td>1564.000000</td>\n",
              "      <td>1564.000000</td>\n",
              "      <td>1564.000000</td>\n",
              "    </tr>\n",
              "    <tr>\n",
              "      <th>mean</th>\n",
              "      <td>0.193994</td>\n",
              "      <td>0.255173</td>\n",
              "      <td>0.227153</td>\n",
              "      <td>1.766220</td>\n",
              "    </tr>\n",
              "    <tr>\n",
              "      <th>std</th>\n",
              "      <td>0.470578</td>\n",
              "      <td>0.779597</td>\n",
              "      <td>0.473678</td>\n",
              "      <td>9.248131</td>\n",
              "    </tr>\n",
              "    <tr>\n",
              "      <th>min</th>\n",
              "      <td>0.051630</td>\n",
              "      <td>0.009810</td>\n",
              "      <td>0.068810</td>\n",
              "      <td>0.001540</td>\n",
              "    </tr>\n",
              "    <tr>\n",
              "      <th>25%</th>\n",
              "      <td>0.106698</td>\n",
              "      <td>0.046405</td>\n",
              "      <td>0.132192</td>\n",
              "      <td>0.006180</td>\n",
              "    </tr>\n",
              "    <tr>\n",
              "      <th>50%</th>\n",
              "      <td>0.134630</td>\n",
              "      <td>0.106080</td>\n",
              "      <td>0.168080</td>\n",
              "      <td>0.008630</td>\n",
              "    </tr>\n",
              "    <tr>\n",
              "      <th>75%</th>\n",
              "      <td>0.166855</td>\n",
              "      <td>0.261647</td>\n",
              "      <td>0.212833</td>\n",
              "      <td>0.012270</td>\n",
              "    </tr>\n",
              "    <tr>\n",
              "      <th>max</th>\n",
              "      <td>15.720710</td>\n",
              "      <td>27.327270</td>\n",
              "      <td>11.393200</td>\n",
              "      <td>100.000000</td>\n",
              "    </tr>\n",
              "  </tbody>\n",
              "</table>\n",
              "</div>"
            ],
            "text/plain": [
              "              cold          flu    pneumonia  coronavirus\n",
              "count  1564.000000  1564.000000  1564.000000  1564.000000\n",
              "mean      0.193994     0.255173     0.227153     1.766220\n",
              "std       0.470578     0.779597     0.473678     9.248131\n",
              "min       0.051630     0.009810     0.068810     0.001540\n",
              "25%       0.106698     0.046405     0.132192     0.006180\n",
              "50%       0.134630     0.106080     0.168080     0.008630\n",
              "75%       0.166855     0.261647     0.212833     0.012270\n",
              "max      15.720710    27.327270    11.393200   100.000000"
            ]
          },
          "metadata": {
            "tags": []
          },
          "execution_count": 29
        }
      ]
    },
    {
      "cell_type": "code",
      "metadata": {
        "id": "ANyfHqHcvcHt",
        "colab_type": "code",
        "outputId": "ece5f305-fec2-438d-e28f-b1bd23acb29d",
        "colab": {
          "base_uri": "https://localhost:8080/",
          "height": 255
        }
      },
      "source": [
        "searchfloating.info()"
      ],
      "execution_count": 30,
      "outputs": [
        {
          "output_type": "stream",
          "text": [
            "<class 'pandas.core.frame.DataFrame'>\n",
            "RangeIndex: 432000 entries, 0 to 431999\n",
            "Data columns (total 7 columns):\n",
            " #   Column      Non-Null Count   Dtype \n",
            "---  ------      --------------   ----- \n",
            " 0   date        432000 non-null  object\n",
            " 1   hour        432000 non-null  int64 \n",
            " 2   birth_year  432000 non-null  int64 \n",
            " 3   sex         432000 non-null  object\n",
            " 4   province    432000 non-null  object\n",
            " 5   city        432000 non-null  object\n",
            " 6   fp_num      432000 non-null  int64 \n",
            "dtypes: int64(3), object(4)\n",
            "memory usage: 23.1+ MB\n"
          ],
          "name": "stdout"
        }
      ]
    },
    {
      "cell_type": "code",
      "metadata": {
        "id": "lBXwa-BRvcHv",
        "colab_type": "code",
        "outputId": "7f16e792-4033-42be-f7d8-d1610181cec4",
        "colab": {
          "base_uri": "https://localhost:8080/",
          "height": 297
        }
      },
      "source": [
        "searchfloating.describe()"
      ],
      "execution_count": 31,
      "outputs": [
        {
          "output_type": "execute_result",
          "data": {
            "text/html": [
              "<div>\n",
              "<style scoped>\n",
              "    .dataframe tbody tr th:only-of-type {\n",
              "        vertical-align: middle;\n",
              "    }\n",
              "\n",
              "    .dataframe tbody tr th {\n",
              "        vertical-align: top;\n",
              "    }\n",
              "\n",
              "    .dataframe thead th {\n",
              "        text-align: right;\n",
              "    }\n",
              "</style>\n",
              "<table border=\"1\" class=\"dataframe\">\n",
              "  <thead>\n",
              "    <tr style=\"text-align: right;\">\n",
              "      <th></th>\n",
              "      <th>hour</th>\n",
              "      <th>birth_year</th>\n",
              "      <th>fp_num</th>\n",
              "    </tr>\n",
              "  </thead>\n",
              "  <tbody>\n",
              "    <tr>\n",
              "      <th>count</th>\n",
              "      <td>432000.000000</td>\n",
              "      <td>432000.000000</td>\n",
              "      <td>432000.000000</td>\n",
              "    </tr>\n",
              "    <tr>\n",
              "      <th>mean</th>\n",
              "      <td>11.500000</td>\n",
              "      <td>45.000000</td>\n",
              "      <td>27860.034884</td>\n",
              "    </tr>\n",
              "    <tr>\n",
              "      <th>std</th>\n",
              "      <td>6.922195</td>\n",
              "      <td>17.078271</td>\n",
              "      <td>13122.838441</td>\n",
              "    </tr>\n",
              "    <tr>\n",
              "      <th>min</th>\n",
              "      <td>0.000000</td>\n",
              "      <td>20.000000</td>\n",
              "      <td>4480.000000</td>\n",
              "    </tr>\n",
              "    <tr>\n",
              "      <th>25%</th>\n",
              "      <td>5.750000</td>\n",
              "      <td>30.000000</td>\n",
              "      <td>18940.000000</td>\n",
              "    </tr>\n",
              "    <tr>\n",
              "      <th>50%</th>\n",
              "      <td>11.500000</td>\n",
              "      <td>45.000000</td>\n",
              "      <td>25690.000000</td>\n",
              "    </tr>\n",
              "    <tr>\n",
              "      <th>75%</th>\n",
              "      <td>17.250000</td>\n",
              "      <td>60.000000</td>\n",
              "      <td>34000.000000</td>\n",
              "    </tr>\n",
              "    <tr>\n",
              "      <th>max</th>\n",
              "      <td>23.000000</td>\n",
              "      <td>70.000000</td>\n",
              "      <td>127640.000000</td>\n",
              "    </tr>\n",
              "  </tbody>\n",
              "</table>\n",
              "</div>"
            ],
            "text/plain": [
              "                hour     birth_year         fp_num\n",
              "count  432000.000000  432000.000000  432000.000000\n",
              "mean       11.500000      45.000000   27860.034884\n",
              "std         6.922195      17.078271   13122.838441\n",
              "min         0.000000      20.000000    4480.000000\n",
              "25%         5.750000      30.000000   18940.000000\n",
              "50%        11.500000      45.000000   25690.000000\n",
              "75%        17.250000      60.000000   34000.000000\n",
              "max        23.000000      70.000000  127640.000000"
            ]
          },
          "metadata": {
            "tags": []
          },
          "execution_count": 31
        }
      ]
    },
    {
      "cell_type": "code",
      "metadata": {
        "id": "4QOdjp7tvcHx",
        "colab_type": "code",
        "outputId": "7a5a4736-6cba-49fe-aa4c-fdebafe13059",
        "colab": {
          "base_uri": "https://localhost:8080/",
          "height": 68
        }
      },
      "source": [
        "searchfloating['sex'].value_counts()"
      ],
      "execution_count": 32,
      "outputs": [
        {
          "output_type": "execute_result",
          "data": {
            "text/plain": [
              "male      216000\n",
              "female    216000\n",
              "Name: sex, dtype: int64"
            ]
          },
          "metadata": {
            "tags": []
          },
          "execution_count": 32
        }
      ]
    },
    {
      "cell_type": "code",
      "metadata": {
        "id": "JxiidI2VvcH0",
        "colab_type": "code",
        "outputId": "b056447c-baaf-47dd-f70c-1f4cb9bca087",
        "colab": {
          "base_uri": "https://localhost:8080/",
          "height": 459
        }
      },
      "source": [
        "searchfloating['city'].value_counts()"
      ],
      "execution_count": 33,
      "outputs": [
        {
          "output_type": "execute_result",
          "data": {
            "text/plain": [
              "Guro-gu            17280\n",
              "Gangbuk-gu         17280\n",
              "Seocho-gu          17280\n",
              "Jongno-gu          17280\n",
              "Nowon-gu           17280\n",
              "Eunpyeong-gu       17280\n",
              "Gangnam-gu         17280\n",
              "Yeongdeungpo-gu    17280\n",
              "Geumcheon-gu       17280\n",
              "Yangcheon-gu       17280\n",
              "Songpa-gu          17280\n",
              "Gangdong-gu        17280\n",
              "Gangseo-gu         17280\n",
              "Dongjag-gu         17280\n",
              "Seodaemun-gu       17280\n",
              "Seongbuk-gu        17280\n",
              "Gwanak-gu          17280\n",
              "Mapo-gu            17280\n",
              "Dobong-gu          17280\n",
              "Dongdaemun-gu      17280\n",
              "Gwangjin-gu        17280\n",
              "Jung-gu            17280\n",
              "Jungnang-gu        17280\n",
              "Yongsan-gu         17280\n",
              "Seongdong-gu       17280\n",
              "Name: city, dtype: int64"
            ]
          },
          "metadata": {
            "tags": []
          },
          "execution_count": 33
        }
      ]
    },
    {
      "cell_type": "code",
      "metadata": {
        "id": "4NqigsMlvcH1",
        "colab_type": "code",
        "colab": {}
      },
      "source": [
        ""
      ],
      "execution_count": 0,
      "outputs": []
    }
  ]
}