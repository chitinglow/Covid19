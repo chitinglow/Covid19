{
  "nbformat": 4,
  "nbformat_minor": 0,
  "metadata": {
    "kernelspec": {
      "display_name": "Python 3",
      "language": "python",
      "name": "python3"
    },
    "language_info": {
      "codemirror_mode": {
        "name": "ipython",
        "version": 3
      },
      "file_extension": ".py",
      "mimetype": "text/x-python",
      "name": "python",
      "nbconvert_exporter": "python",
      "pygments_lexer": "ipython3",
      "version": "3.7.4"
    },
    "colab": {
      "name": "COVID19 Exploratory Analysis.ipynb",
      "provenance": [],
      "include_colab_link": true
    }
  },
  "cells": [
    {
      "cell_type": "markdown",
      "metadata": {
        "id": "view-in-github",
        "colab_type": "text"
      },
      "source": [
        "<a href=\"https://colab.research.google.com/github/chitinglow/Covid19/blob/master/COVID19_Exploratory_Analysis.ipynb\" target=\"_parent\"><img src=\"https://colab.research.google.com/assets/colab-badge.svg\" alt=\"Open In Colab\"/></a>"
      ]
    },
    {
      "cell_type": "markdown",
      "metadata": {
        "id": "yxSXEE67vcGp",
        "colab_type": "text"
      },
      "source": [
        "# Exploratory Data Analysis on COVID-19"
      ]
    },
    {
      "cell_type": "markdown",
      "metadata": {
        "id": "uXHsvgRmvcGq",
        "colab_type": "text"
      },
      "source": [
        "## Data Description\n",
        "\n",
        "1.) Case Data - Data of COVID-19 infection cases in South Korea\n",
        "<br/> \n",
        "<br/>\n",
        "2.) Patient Data  \n",
        "&nbsp;&nbsp;i. PatientInfo: Epidemiological data of COVID-19 patients in South Korea\n",
        "<br/>\n",
        "&nbsp;&nbsp;ii. PatientRoute: Route data of COVID-19 patients in South Korea\n",
        "<br/>\n",
        "<br/>\n",
        "3.) Time Series data\n",
        "<br/>\n",
        "&nbsp;&nbsp;i. Time: Time series data of COVID-19 status in South Korea\n",
        "<br/>\n",
        "&nbsp;&nbsp;ii. TimeAge: Time series data of COVID-19 status in terms of the age in South Korea\n",
        "<br/>\n",
        "&nbsp;&nbsp;iii. TimeGender: Time series data of COVID-19 status in terms of gender in South Korea\n",
        "<br/>\n",
        "&nbsp;&nbsp;iv.TimeProvince: Time series data of COVID-19 status in terms of the Province in South Korea\n",
        "<br/>\n",
        "<br/>\n",
        "4) Additional Data\n",
        "<br/>\n",
        "&nbsp;&nbsp;i. Region: Location and statistical data of the regions in South Korea\n",
        "<br/>\n",
        "&nbsp;&nbsp;ii. Weather: Data of the weather in the regions of South Korea\n",
        "<br/>\n",
        "&nbsp;&nbsp;iii. SearchTrend: Trend data of the keywords searched in NAVER which is one of the largest portals in South Korea\n",
        "<br/>\n",
        "&nbsp;&nbsp;iv. SeoulFloating: Data of floating population in Seoul, South Korea (from SK Telecom Big Data Hub)"
      ]
    },
    {
      "cell_type": "code",
      "metadata": {
        "id": "S6kPkrfoMM_S",
        "colab_type": "code",
        "colab": {
          "base_uri": "https://localhost:8080/",
          "height": 34
        },
        "outputId": "7937431d-cc18-44d9-86ef-c8b293541984"
      },
      "source": [
        "from google.colab import drive\n",
        "drive.mount('/content/drive')"
      ],
      "execution_count": 4,
      "outputs": [
        {
          "output_type": "stream",
          "text": [
            "Drive already mounted at /content/drive; to attempt to forcibly remount, call drive.mount(\"/content/drive\", force_remount=True).\n"
          ],
          "name": "stdout"
        }
      ]
    },
    {
      "cell_type": "code",
      "metadata": {
        "id": "7wOZD6X0vcGr",
        "colab_type": "code",
        "colab": {}
      },
      "source": [
        "# import libraries\n",
        "import pandas as pd\n",
        "import matplotlib.pyplot as plt\n",
        "from pandas_profiling import ProfileReport\n",
        "import pandas_profiling\n",
        "\n",
        "#case data\n",
        "case = pd.read_csv(\"/content/drive/My Drive/Colab Notebooks/Case.csv\")\n",
        "\n",
        "#patient data\n",
        "patientinfo = pd.read_csv(\"/content/drive/My Drive/Colab Notebooks/PatientInfo.csv\")\n",
        "patientroute = pd.read_csv(\"/content/drive/My Drive/Colab Notebooks/PatientRoute.csv\")\n",
        "\n",
        "#time series data\n",
        "time = pd.read_csv('/content/drive/My Drive/Colab Notebooks/Time.csv')\n",
        "timeage = pd.read_csv('/content/drive/My Drive/Colab Notebooks/TimeAge.csv')\n",
        "timegender = pd.read_csv('/content/drive/My Drive/Colab Notebooks/TimeGender.csv')\n",
        "timeprovince = pd.read_csv('/content/drive/My Drive/Colab Notebooks/TimeProvince.csv')\n",
        "\n",
        "#additional data\n",
        "region = pd.read_csv('/content/drive/My Drive/Colab Notebooks/Region.csv')\n",
        "weather = pd.read_csv('/content/drive/My Drive/Colab Notebooks/Weather.csv')\n",
        "searchtrend = pd.read_csv('/content/drive/My Drive/Colab Notebooks/SearchTrend.csv')\n",
        "searchfloating = pd.read_csv(\"/content/drive/My Drive/Colab Notebooks/SeoulFloating.csv\")"
      ],
      "execution_count": 0,
      "outputs": []
    },
    {
      "cell_type": "markdown",
      "metadata": {
        "id": "AXG3PhRAvcGu",
        "colab_type": "text"
      },
      "source": [
        "## Case information"
      ]
    },
    {
      "cell_type": "markdown",
      "metadata": {
        "id": "VcCHG82cxIUj",
        "colab_type": "text"
      },
      "source": [
        "# Case "
      ]
    },
    {
      "cell_type": "markdown",
      "metadata": {
        "id": "T9LxagGh3syS",
        "colab_type": "text"
      },
      "source": [
        "### Description of the case variables\n",
        "\n",
        "* Case id: Unique identifier of infection case\n",
        "* Province: Special City/Metropolitan City/Province\n",
        "* City: City/Country/District\n",
        "* Group: TRUE (group infection); FALSE (not group)\n",
        "* Infection case: Infection case based on different cluster\n",
        "* Confirmed: The accumulated number of the comfirmed\n",
        "* Latitude: The latitude of the infection group\n",
        "* Longitude: The longitude of the infection group "
      ]
    },
    {
      "cell_type": "code",
      "metadata": {
        "id": "UrP0EYJAxMYO",
        "colab_type": "code",
        "colab": {
          "base_uri": "https://localhost:8080/",
          "height": 272
        },
        "outputId": "31e75a96-7482-49e2-cec6-2704e1fbf958"
      },
      "source": [
        "case.info()"
      ],
      "execution_count": 6,
      "outputs": [
        {
          "output_type": "stream",
          "text": [
            "<class 'pandas.core.frame.DataFrame'>\n",
            "RangeIndex: 111 entries, 0 to 110\n",
            "Data columns (total 8 columns):\n",
            " #   Column          Non-Null Count  Dtype \n",
            "---  ------          --------------  ----- \n",
            " 0   case_id         111 non-null    int64 \n",
            " 1   province        111 non-null    object\n",
            " 2   city            111 non-null    object\n",
            " 3   group           111 non-null    bool  \n",
            " 4   infection_case  111 non-null    object\n",
            " 5   confirmed       111 non-null    int64 \n",
            " 6   latitude        111 non-null    object\n",
            " 7   longitude       111 non-null    object\n",
            "dtypes: bool(1), int64(2), object(5)\n",
            "memory usage: 6.3+ KB\n"
          ],
          "name": "stdout"
        }
      ]
    },
    {
      "cell_type": "code",
      "metadata": {
        "id": "x1tKeM-e3pyi",
        "colab_type": "code",
        "colab": {
          "base_uri": "https://localhost:8080/",
          "height": 204
        },
        "outputId": "5fceabc8-0a2d-490c-c725-804a56cc408c"
      },
      "source": [
        "case.head()"
      ],
      "execution_count": 7,
      "outputs": [
        {
          "output_type": "execute_result",
          "data": {
            "text/html": [
              "<div>\n",
              "<style scoped>\n",
              "    .dataframe tbody tr th:only-of-type {\n",
              "        vertical-align: middle;\n",
              "    }\n",
              "\n",
              "    .dataframe tbody tr th {\n",
              "        vertical-align: top;\n",
              "    }\n",
              "\n",
              "    .dataframe thead th {\n",
              "        text-align: right;\n",
              "    }\n",
              "</style>\n",
              "<table border=\"1\" class=\"dataframe\">\n",
              "  <thead>\n",
              "    <tr style=\"text-align: right;\">\n",
              "      <th></th>\n",
              "      <th>case_id</th>\n",
              "      <th>province</th>\n",
              "      <th>city</th>\n",
              "      <th>group</th>\n",
              "      <th>infection_case</th>\n",
              "      <th>confirmed</th>\n",
              "      <th>latitude</th>\n",
              "      <th>longitude</th>\n",
              "    </tr>\n",
              "  </thead>\n",
              "  <tbody>\n",
              "    <tr>\n",
              "      <th>0</th>\n",
              "      <td>1000001</td>\n",
              "      <td>Seoul</td>\n",
              "      <td>Guro-gu</td>\n",
              "      <td>True</td>\n",
              "      <td>Guro-gu Call Center</td>\n",
              "      <td>98</td>\n",
              "      <td>37.508163</td>\n",
              "      <td>126.884387</td>\n",
              "    </tr>\n",
              "    <tr>\n",
              "      <th>1</th>\n",
              "      <td>1000002</td>\n",
              "      <td>Seoul</td>\n",
              "      <td>Dongdaemun-gu</td>\n",
              "      <td>True</td>\n",
              "      <td>Dongan Church</td>\n",
              "      <td>20</td>\n",
              "      <td>37.592888</td>\n",
              "      <td>127.056766</td>\n",
              "    </tr>\n",
              "    <tr>\n",
              "      <th>2</th>\n",
              "      <td>1000003</td>\n",
              "      <td>Seoul</td>\n",
              "      <td>Guro-gu</td>\n",
              "      <td>True</td>\n",
              "      <td>Manmin Central Church</td>\n",
              "      <td>41</td>\n",
              "      <td>37.481059</td>\n",
              "      <td>126.894343</td>\n",
              "    </tr>\n",
              "    <tr>\n",
              "      <th>3</th>\n",
              "      <td>1000004</td>\n",
              "      <td>Seoul</td>\n",
              "      <td>Eunpyeong-gu</td>\n",
              "      <td>True</td>\n",
              "      <td>Eunpyeong St. Mary's Hospital</td>\n",
              "      <td>14</td>\n",
              "      <td>37.63369</td>\n",
              "      <td>126.9165</td>\n",
              "    </tr>\n",
              "    <tr>\n",
              "      <th>4</th>\n",
              "      <td>1000005</td>\n",
              "      <td>Seoul</td>\n",
              "      <td>Seongdong-gu</td>\n",
              "      <td>True</td>\n",
              "      <td>Seongdong-gu APT</td>\n",
              "      <td>13</td>\n",
              "      <td>37.55713</td>\n",
              "      <td>127.0403</td>\n",
              "    </tr>\n",
              "  </tbody>\n",
              "</table>\n",
              "</div>"
            ],
            "text/plain": [
              "   case_id province           city  ...  confirmed   latitude   longitude\n",
              "0  1000001    Seoul        Guro-gu  ...         98  37.508163  126.884387\n",
              "1  1000002    Seoul  Dongdaemun-gu  ...         20  37.592888  127.056766\n",
              "2  1000003    Seoul        Guro-gu  ...         41  37.481059  126.894343\n",
              "3  1000004    Seoul   Eunpyeong-gu  ...         14   37.63369    126.9165\n",
              "4  1000005    Seoul   Seongdong-gu  ...         13   37.55713    127.0403\n",
              "\n",
              "[5 rows x 8 columns]"
            ]
          },
          "metadata": {
            "tags": []
          },
          "execution_count": 7
        }
      ]
    },
    {
      "cell_type": "code",
      "metadata": {
        "id": "e99RzAxVvcGy",
        "colab_type": "code",
        "outputId": "3b092de2-132c-4184-f691-36d5f681e01a",
        "colab": {
          "base_uri": "https://localhost:8080/",
          "height": 297
        }
      },
      "source": [
        "#descriptive stats for numerical values\n",
        "case[['confirmed']].describe()"
      ],
      "execution_count": 8,
      "outputs": [
        {
          "output_type": "execute_result",
          "data": {
            "text/html": [
              "<div>\n",
              "<style scoped>\n",
              "    .dataframe tbody tr th:only-of-type {\n",
              "        vertical-align: middle;\n",
              "    }\n",
              "\n",
              "    .dataframe tbody tr th {\n",
              "        vertical-align: top;\n",
              "    }\n",
              "\n",
              "    .dataframe thead th {\n",
              "        text-align: right;\n",
              "    }\n",
              "</style>\n",
              "<table border=\"1\" class=\"dataframe\">\n",
              "  <thead>\n",
              "    <tr style=\"text-align: right;\">\n",
              "      <th></th>\n",
              "      <th>confirmed</th>\n",
              "    </tr>\n",
              "  </thead>\n",
              "  <tbody>\n",
              "    <tr>\n",
              "      <th>count</th>\n",
              "      <td>111.000000</td>\n",
              "    </tr>\n",
              "    <tr>\n",
              "      <th>mean</th>\n",
              "      <td>87.270270</td>\n",
              "    </tr>\n",
              "    <tr>\n",
              "      <th>std</th>\n",
              "      <td>441.976345</td>\n",
              "    </tr>\n",
              "    <tr>\n",
              "      <th>min</th>\n",
              "      <td>0.000000</td>\n",
              "    </tr>\n",
              "    <tr>\n",
              "      <th>25%</th>\n",
              "      <td>5.000000</td>\n",
              "    </tr>\n",
              "    <tr>\n",
              "      <th>50%</th>\n",
              "      <td>10.000000</td>\n",
              "    </tr>\n",
              "    <tr>\n",
              "      <th>75%</th>\n",
              "      <td>31.000000</td>\n",
              "    </tr>\n",
              "    <tr>\n",
              "      <th>max</th>\n",
              "      <td>4508.000000</td>\n",
              "    </tr>\n",
              "  </tbody>\n",
              "</table>\n",
              "</div>"
            ],
            "text/plain": [
              "         confirmed\n",
              "count   111.000000\n",
              "mean     87.270270\n",
              "std     441.976345\n",
              "min       0.000000\n",
              "25%       5.000000\n",
              "50%      10.000000\n",
              "75%      31.000000\n",
              "max    4508.000000"
            ]
          },
          "metadata": {
            "tags": []
          },
          "execution_count": 8
        }
      ]
    },
    {
      "cell_type": "code",
      "metadata": {
        "id": "GLf5nqoNvcG0",
        "colab_type": "code",
        "outputId": "d3671231-9d0a-4636-8b54-0b567497b0fe",
        "colab": {
          "base_uri": "https://localhost:8080/",
          "height": 170
        }
      },
      "source": [
        "#Checking for missing values\n",
        "case.isnull().sum()"
      ],
      "execution_count": 9,
      "outputs": [
        {
          "output_type": "execute_result",
          "data": {
            "text/plain": [
              "case_id           0\n",
              "province          0\n",
              "city              0\n",
              "group             0\n",
              "infection_case    0\n",
              "confirmed         0\n",
              "latitude          0\n",
              "longitude         0\n",
              "dtype: int64"
            ]
          },
          "metadata": {
            "tags": []
          },
          "execution_count": 9
        }
      ]
    },
    {
      "cell_type": "code",
      "metadata": {
        "id": "es72ZhfZ8zs0",
        "colab_type": "code",
        "colab": {
          "base_uri": "https://localhost:8080/",
          "height": 748
        },
        "outputId": "2d43a897-f315-46b5-b48c-99cceb6802ff"
      },
      "source": [
        "case.infection_case.value_counts()"
      ],
      "execution_count": 10,
      "outputs": [
        {
          "output_type": "execute_result",
          "data": {
            "text/plain": [
              "etc                                      17\n",
              "overseas inflow                          17\n",
              "contact with patient                     16\n",
              "Shincheonji Church                       15\n",
              "Cheongdo Daenam Hospital                  3\n",
              "Guro-gu Call Center                       3\n",
              "Onchun Church                             2\n",
              "Uijeongbu St. Mary’s Hospital             2\n",
              "Manmin Central Church                     2\n",
              "Seosan-si Laboratory                      2\n",
              "Milal Shelter                             1\n",
              "Suwon Saeng Myeong Saem Church            1\n",
              "Geochang-gun Woongyang-myeon              1\n",
              "Gyeongsan Jeil Silver Town                1\n",
              "Seongdong-gu APT                          1\n",
              "Dongan Church                             1\n",
              "Haeundae-gu Catholic Church               1\n",
              "Wings Tower                               1\n",
              "Gyeongsan Cham Joeun Community Center     1\n",
              "Geochang Church                           1\n",
              "River of Grace Community Church           1\n",
              "Jung-gu Fashion Company                   1\n",
              "Suyeong-gu Kindergarten                   1\n",
              "Pilgrimage to Israel                      1\n",
              "Jin-gu Academy                            1\n",
              "Gyeongsan Seorin Nursing Home             1\n",
              "Bonghwa Pureun Nursing Home               1\n",
              "gym facility in Cheonan                   1\n",
              "Second Mi-Ju Hospital                     1\n",
              "Eunpyeong St. Mary's Hospital             1\n",
              "Korea Forest Engineer Institute           1\n",
              "Bundang Jesaeng Hospital                  1\n",
              "Ministry of Oceans and Fisheries          1\n",
              "gym facility in Sejong                    1\n",
              "Hansarang Convalescent Hospital           1\n",
              "Goesan-gun Jangyeon-myeon                 1\n",
              "Wonju-si Apartments                       1\n",
              "Fatima Hospital                           1\n",
              "Jongno Community Center                   1\n",
              "Daesil Convalescent Hospital              1\n",
              "Hanmaeum Changwon Hospital                1\n",
              "Changnyeong Coin Karaoke                  1\n",
              "Name: infection_case, dtype: int64"
            ]
          },
          "metadata": {
            "tags": []
          },
          "execution_count": 10
        }
      ]
    },
    {
      "cell_type": "markdown",
      "metadata": {
        "id": "xTF3cujfvcG4",
        "colab_type": "text"
      },
      "source": [
        "## Patient Section"
      ]
    },
    {
      "cell_type": "markdown",
      "metadata": {
        "id": "k6hanXyC89vw",
        "colab_type": "text"
      },
      "source": [
        "### Description of Patient Info\n",
        "\n",
        "* Patient id: Unique identifier of the patient\n",
        "* Global num: The number given by KCDC\n",
        "* Sex : Patient's sex\n",
        "* Birth year: The birth year of the patient\n",
        "* Age: The age of the patient (in group)\n",
        "* Country: The country of the patient\n",
        "* Province: The province of the patient\n",
        "* City: The city of the patient\n",
        "* Disease: TRUE (underlying disease); FALSE (no disease)\n",
        "* Infection case: The case of infection\n",
        "* Infection order: The order of infection\n",
        "* Infected by: The ID of who infected the patient\n",
        "* Contact Number: The number of contacts with people\n",
        "* Symptom onset date: The date of symptom onset\n",
        "* Confirmed date: The date of being confirmed\n",
        "* Released date: The date of being released\n",
        "* Deceased date: The date of being deceased\n",
        "* State: isolated/relleased/deceased"
      ]
    },
    {
      "cell_type": "code",
      "metadata": {
        "id": "0Z3gbBxIvcG4",
        "colab_type": "code",
        "outputId": "d8237b9a-ee30-47b5-9444-d86544637246",
        "colab": {
          "base_uri": "https://localhost:8080/",
          "height": 442
        }
      },
      "source": [
        "patientinfo.info()"
      ],
      "execution_count": 11,
      "outputs": [
        {
          "output_type": "stream",
          "text": [
            "<class 'pandas.core.frame.DataFrame'>\n",
            "RangeIndex: 3253 entries, 0 to 3252\n",
            "Data columns (total 18 columns):\n",
            " #   Column              Non-Null Count  Dtype  \n",
            "---  ------              --------------  -----  \n",
            " 0   patient_id          3253 non-null   int64  \n",
            " 1   global_num          2082 non-null   float64\n",
            " 2   sex                 3200 non-null   object \n",
            " 3   birth_year          2833 non-null   float64\n",
            " 4   age                 3192 non-null   object \n",
            " 5   country             3142 non-null   object \n",
            " 6   province            3253 non-null   object \n",
            " 7   city                3177 non-null   object \n",
            " 8   disease             18 non-null     object \n",
            " 9   infection_case      2441 non-null   object \n",
            " 10  infection_order     31 non-null     float64\n",
            " 11  infected_by         763 non-null    float64\n",
            " 12  contact_number      597 non-null    float64\n",
            " 13  symptom_onset_date  462 non-null    object \n",
            " 14  confirmed_date      3253 non-null   object \n",
            " 15  released_date       1137 non-null   object \n",
            " 16  deceased_date       60 non-null     object \n",
            " 17  state               3253 non-null   object \n",
            "dtypes: float64(5), int64(1), object(12)\n",
            "memory usage: 457.6+ KB\n"
          ],
          "name": "stdout"
        }
      ]
    },
    {
      "cell_type": "code",
      "metadata": {
        "id": "xf2KKuN8Fcgy",
        "colab_type": "code",
        "outputId": "2a8d1190-8ee9-4a1d-e5fa-a74912601c23",
        "colab": {
          "base_uri": "https://localhost:8080/",
          "height": 255
        }
      },
      "source": [
        "patientinfo.head()"
      ],
      "execution_count": 38,
      "outputs": [
        {
          "output_type": "execute_result",
          "data": {
            "text/html": [
              "<div>\n",
              "<style scoped>\n",
              "    .dataframe tbody tr th:only-of-type {\n",
              "        vertical-align: middle;\n",
              "    }\n",
              "\n",
              "    .dataframe tbody tr th {\n",
              "        vertical-align: top;\n",
              "    }\n",
              "\n",
              "    .dataframe thead th {\n",
              "        text-align: right;\n",
              "    }\n",
              "</style>\n",
              "<table border=\"1\" class=\"dataframe\">\n",
              "  <thead>\n",
              "    <tr style=\"text-align: right;\">\n",
              "      <th></th>\n",
              "      <th>patient_id</th>\n",
              "      <th>global_num</th>\n",
              "      <th>sex</th>\n",
              "      <th>birth_year</th>\n",
              "      <th>age</th>\n",
              "      <th>country</th>\n",
              "      <th>province</th>\n",
              "      <th>city</th>\n",
              "      <th>disease</th>\n",
              "      <th>infection_case</th>\n",
              "      <th>infection_order</th>\n",
              "      <th>infected_by</th>\n",
              "      <th>contact_number</th>\n",
              "      <th>symptom_onset_date</th>\n",
              "      <th>confirmed_date</th>\n",
              "      <th>released_date</th>\n",
              "      <th>deceased_date</th>\n",
              "      <th>state</th>\n",
              "    </tr>\n",
              "  </thead>\n",
              "  <tbody>\n",
              "    <tr>\n",
              "      <th>0</th>\n",
              "      <td>1000000001</td>\n",
              "      <td>2.0</td>\n",
              "      <td>male</td>\n",
              "      <td>1964.0</td>\n",
              "      <td>50s</td>\n",
              "      <td>Korea</td>\n",
              "      <td>Seoul</td>\n",
              "      <td>Gangseo-gu</td>\n",
              "      <td>NaN</td>\n",
              "      <td>overseas inflow</td>\n",
              "      <td>1.0</td>\n",
              "      <td>NaN</td>\n",
              "      <td>75.0</td>\n",
              "      <td>2020-01-22</td>\n",
              "      <td>2020-01-23</td>\n",
              "      <td>2020-02-05</td>\n",
              "      <td>NaN</td>\n",
              "      <td>released</td>\n",
              "    </tr>\n",
              "    <tr>\n",
              "      <th>1</th>\n",
              "      <td>1000000002</td>\n",
              "      <td>5.0</td>\n",
              "      <td>male</td>\n",
              "      <td>1987.0</td>\n",
              "      <td>30s</td>\n",
              "      <td>Korea</td>\n",
              "      <td>Seoul</td>\n",
              "      <td>Jungnang-gu</td>\n",
              "      <td>NaN</td>\n",
              "      <td>overseas inflow</td>\n",
              "      <td>1.0</td>\n",
              "      <td>NaN</td>\n",
              "      <td>31.0</td>\n",
              "      <td>NaN</td>\n",
              "      <td>2020-01-30</td>\n",
              "      <td>2020-03-02</td>\n",
              "      <td>NaN</td>\n",
              "      <td>released</td>\n",
              "    </tr>\n",
              "    <tr>\n",
              "      <th>2</th>\n",
              "      <td>1000000003</td>\n",
              "      <td>6.0</td>\n",
              "      <td>male</td>\n",
              "      <td>1964.0</td>\n",
              "      <td>50s</td>\n",
              "      <td>Korea</td>\n",
              "      <td>Seoul</td>\n",
              "      <td>Jongno-gu</td>\n",
              "      <td>NaN</td>\n",
              "      <td>contact with patient</td>\n",
              "      <td>2.0</td>\n",
              "      <td>2.002000e+09</td>\n",
              "      <td>17.0</td>\n",
              "      <td>NaN</td>\n",
              "      <td>2020-01-30</td>\n",
              "      <td>2020-02-19</td>\n",
              "      <td>NaN</td>\n",
              "      <td>released</td>\n",
              "    </tr>\n",
              "    <tr>\n",
              "      <th>3</th>\n",
              "      <td>1000000004</td>\n",
              "      <td>7.0</td>\n",
              "      <td>male</td>\n",
              "      <td>1991.0</td>\n",
              "      <td>20s</td>\n",
              "      <td>Korea</td>\n",
              "      <td>Seoul</td>\n",
              "      <td>Mapo-gu</td>\n",
              "      <td>NaN</td>\n",
              "      <td>overseas inflow</td>\n",
              "      <td>1.0</td>\n",
              "      <td>NaN</td>\n",
              "      <td>9.0</td>\n",
              "      <td>2020-01-26</td>\n",
              "      <td>2020-01-30</td>\n",
              "      <td>2020-02-15</td>\n",
              "      <td>NaN</td>\n",
              "      <td>released</td>\n",
              "    </tr>\n",
              "    <tr>\n",
              "      <th>4</th>\n",
              "      <td>1000000005</td>\n",
              "      <td>9.0</td>\n",
              "      <td>female</td>\n",
              "      <td>1992.0</td>\n",
              "      <td>20s</td>\n",
              "      <td>Korea</td>\n",
              "      <td>Seoul</td>\n",
              "      <td>Seongbuk-gu</td>\n",
              "      <td>NaN</td>\n",
              "      <td>contact with patient</td>\n",
              "      <td>2.0</td>\n",
              "      <td>1.000000e+09</td>\n",
              "      <td>2.0</td>\n",
              "      <td>NaN</td>\n",
              "      <td>2020-01-31</td>\n",
              "      <td>2020-02-24</td>\n",
              "      <td>NaN</td>\n",
              "      <td>released</td>\n",
              "    </tr>\n",
              "  </tbody>\n",
              "</table>\n",
              "</div>"
            ],
            "text/plain": [
              "   patient_id  global_num     sex  ...  released_date deceased_date     state\n",
              "0  1000000001         2.0    male  ...     2020-02-05           NaN  released\n",
              "1  1000000002         5.0    male  ...     2020-03-02           NaN  released\n",
              "2  1000000003         6.0    male  ...     2020-02-19           NaN  released\n",
              "3  1000000004         7.0    male  ...     2020-02-15           NaN  released\n",
              "4  1000000005         9.0  female  ...     2020-02-24           NaN  released\n",
              "\n",
              "[5 rows x 18 columns]"
            ]
          },
          "metadata": {
            "tags": []
          },
          "execution_count": 38
        }
      ]
    },
    {
      "cell_type": "code",
      "metadata": {
        "id": "qS-VtdndPMB_",
        "colab_type": "code",
        "colab": {
          "base_uri": "https://localhost:8080/",
          "height": 221
        },
        "outputId": "139c5b48-b3fb-472b-ac3b-34be41b0e628"
      },
      "source": [
        "patientinfo.age.value_counts()"
      ],
      "execution_count": 39,
      "outputs": [
        {
          "output_type": "execute_result",
          "data": {
            "text/plain": [
              "20s     779\n",
              "50s     582\n",
              "40s     445\n",
              "30s     418\n",
              "60s     390\n",
              "70s     195\n",
              "80s     154\n",
              "10s     136\n",
              "0s       47\n",
              "90s      45\n",
              "100s      1\n",
              "Name: age, dtype: int64"
            ]
          },
          "metadata": {
            "tags": []
          },
          "execution_count": 39
        }
      ]
    },
    {
      "cell_type": "code",
      "metadata": {
        "id": "zxuFXBBZPMSg",
        "colab_type": "code",
        "colab": {
          "base_uri": "https://localhost:8080/",
          "height": 85
        },
        "outputId": "93afa8ae-5457-4544-e635-3b360701b1fe"
      },
      "source": [
        "patientinfo.state.value_counts()"
      ],
      "execution_count": 40,
      "outputs": [
        {
          "output_type": "execute_result",
          "data": {
            "text/plain": [
              "isolated    1747\n",
              "released    1439\n",
              "deceased      67\n",
              "Name: state, dtype: int64"
            ]
          },
          "metadata": {
            "tags": []
          },
          "execution_count": 40
        }
      ]
    },
    {
      "cell_type": "code",
      "metadata": {
        "id": "oKMcyydDI6ZM",
        "colab_type": "code",
        "colab": {
          "base_uri": "https://localhost:8080/",
          "height": 85
        },
        "outputId": "6ac045c6-2530-442a-ea17-e64933702781"
      },
      "source": [
        "patientinfo.age.value_counts()\n",
        "patientinfo.state.value_counts()"
      ],
      "execution_count": 13,
      "outputs": [
        {
          "output_type": "execute_result",
          "data": {
            "text/plain": [
              "isolated    1747\n",
              "released    1439\n",
              "deceased      67\n",
              "Name: state, dtype: int64"
            ]
          },
          "metadata": {
            "tags": []
          },
          "execution_count": 13
        }
      ]
    },
    {
      "cell_type": "markdown",
      "metadata": {
        "id": "AzfCTs1JQ6Nk",
        "colab_type": "text"
      },
      "source": [
        "### Description of Patient Route\n",
        "\n",
        "* Patient id: Unique identifier of the patient\n",
        "* Global num: The number given by KCDC\n",
        "* Date: Date of the route (format: YYYY-MM-DD)\n",
        "* Province: Name of Province\n",
        "* City: Name of City\n",
        "* Type: Location type (gym, hospital, etc...)\n",
        "* Latitude: Route latitude\n",
        "* Longitude: Route longitude"
      ]
    },
    {
      "cell_type": "code",
      "metadata": {
        "id": "EKsJOdGhvcG-",
        "colab_type": "code",
        "outputId": "5f1a9d62-ff3f-495b-e697-0a7b1af684be",
        "colab": {
          "base_uri": "https://localhost:8080/",
          "height": 272
        }
      },
      "source": [
        "patientroute.info()"
      ],
      "execution_count": 14,
      "outputs": [
        {
          "output_type": "stream",
          "text": [
            "<class 'pandas.core.frame.DataFrame'>\n",
            "RangeIndex: 5321 entries, 0 to 5320\n",
            "Data columns (total 8 columns):\n",
            " #   Column      Non-Null Count  Dtype  \n",
            "---  ------      --------------  -----  \n",
            " 0   patient_id  5321 non-null   int64  \n",
            " 1   global_num  1081 non-null   float64\n",
            " 2   date        5321 non-null   object \n",
            " 3   province    5321 non-null   object \n",
            " 4   city        5321 non-null   object \n",
            " 5   type        5321 non-null   object \n",
            " 6   latitude    5321 non-null   float64\n",
            " 7   longitude   5321 non-null   float64\n",
            "dtypes: float64(3), int64(1), object(4)\n",
            "memory usage: 332.7+ KB\n"
          ],
          "name": "stdout"
        }
      ]
    },
    {
      "cell_type": "code",
      "metadata": {
        "id": "VoSsuPvWS4hI",
        "colab_type": "code",
        "colab": {
          "base_uri": "https://localhost:8080/",
          "height": 204
        },
        "outputId": "c0fff5b7-ce46-4298-8efb-6ae241d7b730"
      },
      "source": [
        "patientroute.head()"
      ],
      "execution_count": 43,
      "outputs": [
        {
          "output_type": "execute_result",
          "data": {
            "text/html": [
              "<div>\n",
              "<style scoped>\n",
              "    .dataframe tbody tr th:only-of-type {\n",
              "        vertical-align: middle;\n",
              "    }\n",
              "\n",
              "    .dataframe tbody tr th {\n",
              "        vertical-align: top;\n",
              "    }\n",
              "\n",
              "    .dataframe thead th {\n",
              "        text-align: right;\n",
              "    }\n",
              "</style>\n",
              "<table border=\"1\" class=\"dataframe\">\n",
              "  <thead>\n",
              "    <tr style=\"text-align: right;\">\n",
              "      <th></th>\n",
              "      <th>patient_id</th>\n",
              "      <th>global_num</th>\n",
              "      <th>date</th>\n",
              "      <th>province</th>\n",
              "      <th>city</th>\n",
              "      <th>type</th>\n",
              "      <th>latitude</th>\n",
              "      <th>longitude</th>\n",
              "    </tr>\n",
              "  </thead>\n",
              "  <tbody>\n",
              "    <tr>\n",
              "      <th>0</th>\n",
              "      <td>1000000001</td>\n",
              "      <td>2.0</td>\n",
              "      <td>2020-01-22</td>\n",
              "      <td>Gyeonggi-do</td>\n",
              "      <td>Gimpo-si</td>\n",
              "      <td>airport</td>\n",
              "      <td>37.615246</td>\n",
              "      <td>126.715632</td>\n",
              "    </tr>\n",
              "    <tr>\n",
              "      <th>1</th>\n",
              "      <td>1000000001</td>\n",
              "      <td>2.0</td>\n",
              "      <td>2020-01-24</td>\n",
              "      <td>Seoul</td>\n",
              "      <td>Jung-gu</td>\n",
              "      <td>hospital</td>\n",
              "      <td>37.567241</td>\n",
              "      <td>127.005659</td>\n",
              "    </tr>\n",
              "    <tr>\n",
              "      <th>2</th>\n",
              "      <td>1000000002</td>\n",
              "      <td>5.0</td>\n",
              "      <td>2020-01-25</td>\n",
              "      <td>Seoul</td>\n",
              "      <td>Seongbuk-gu</td>\n",
              "      <td>etc</td>\n",
              "      <td>37.592560</td>\n",
              "      <td>127.017048</td>\n",
              "    </tr>\n",
              "    <tr>\n",
              "      <th>3</th>\n",
              "      <td>1000000002</td>\n",
              "      <td>5.0</td>\n",
              "      <td>2020-01-26</td>\n",
              "      <td>Seoul</td>\n",
              "      <td>Seongbuk-gu</td>\n",
              "      <td>store</td>\n",
              "      <td>37.591810</td>\n",
              "      <td>127.016822</td>\n",
              "    </tr>\n",
              "    <tr>\n",
              "      <th>4</th>\n",
              "      <td>1000000002</td>\n",
              "      <td>5.0</td>\n",
              "      <td>2020-01-26</td>\n",
              "      <td>Seoul</td>\n",
              "      <td>Seongdong-gu</td>\n",
              "      <td>public_transportation</td>\n",
              "      <td>37.563992</td>\n",
              "      <td>127.029534</td>\n",
              "    </tr>\n",
              "  </tbody>\n",
              "</table>\n",
              "</div>"
            ],
            "text/plain": [
              "   patient_id  global_num  ...   latitude   longitude\n",
              "0  1000000001         2.0  ...  37.615246  126.715632\n",
              "1  1000000001         2.0  ...  37.567241  127.005659\n",
              "2  1000000002         5.0  ...  37.592560  127.017048\n",
              "3  1000000002         5.0  ...  37.591810  127.016822\n",
              "4  1000000002         5.0  ...  37.563992  127.029534\n",
              "\n",
              "[5 rows x 8 columns]"
            ]
          },
          "metadata": {
            "tags": []
          },
          "execution_count": 43
        }
      ]
    },
    {
      "cell_type": "code",
      "metadata": {
        "id": "IQfUxuOPvcHF",
        "colab_type": "code",
        "outputId": "cd3c512c-99e4-4e34-f6e6-c1800c19d092",
        "colab": {
          "base_uri": "https://localhost:8080/",
          "height": 297
        }
      },
      "source": [
        "patientroute[['global_num']].describe()"
      ],
      "execution_count": 44,
      "outputs": [
        {
          "output_type": "execute_result",
          "data": {
            "text/html": [
              "<div>\n",
              "<style scoped>\n",
              "    .dataframe tbody tr th:only-of-type {\n",
              "        vertical-align: middle;\n",
              "    }\n",
              "\n",
              "    .dataframe tbody tr th {\n",
              "        vertical-align: top;\n",
              "    }\n",
              "\n",
              "    .dataframe thead th {\n",
              "        text-align: right;\n",
              "    }\n",
              "</style>\n",
              "<table border=\"1\" class=\"dataframe\">\n",
              "  <thead>\n",
              "    <tr style=\"text-align: right;\">\n",
              "      <th></th>\n",
              "      <th>global_num</th>\n",
              "    </tr>\n",
              "  </thead>\n",
              "  <tbody>\n",
              "    <tr>\n",
              "      <th>count</th>\n",
              "      <td>1081.000000</td>\n",
              "    </tr>\n",
              "    <tr>\n",
              "      <th>mean</th>\n",
              "      <td>2700.370953</td>\n",
              "    </tr>\n",
              "    <tr>\n",
              "      <th>std</th>\n",
              "      <td>2874.370561</td>\n",
              "    </tr>\n",
              "    <tr>\n",
              "      <th>min</th>\n",
              "      <td>2.000000</td>\n",
              "    </tr>\n",
              "    <tr>\n",
              "      <th>25%</th>\n",
              "      <td>298.000000</td>\n",
              "    </tr>\n",
              "    <tr>\n",
              "      <th>50%</th>\n",
              "      <td>1370.000000</td>\n",
              "    </tr>\n",
              "    <tr>\n",
              "      <th>75%</th>\n",
              "      <td>4224.000000</td>\n",
              "    </tr>\n",
              "    <tr>\n",
              "      <th>max</th>\n",
              "      <td>9082.000000</td>\n",
              "    </tr>\n",
              "  </tbody>\n",
              "</table>\n",
              "</div>"
            ],
            "text/plain": [
              "        global_num\n",
              "count  1081.000000\n",
              "mean   2700.370953\n",
              "std    2874.370561\n",
              "min       2.000000\n",
              "25%     298.000000\n",
              "50%    1370.000000\n",
              "75%    4224.000000\n",
              "max    9082.000000"
            ]
          },
          "metadata": {
            "tags": []
          },
          "execution_count": 44
        }
      ]
    },
    {
      "cell_type": "markdown",
      "metadata": {
        "id": "lKIFLS54vcHI",
        "colab_type": "text"
      },
      "source": [
        "## Time Section"
      ]
    },
    {
      "cell_type": "markdown",
      "metadata": {
        "id": "VLx1wO8HTqhs",
        "colab_type": "text"
      },
      "source": [
        "### Description of Time series data\n",
        "\n",
        "* Date: Date of reported case (format: YYYY-MM-DD)\n",
        "* Time: Time of case (24 Hour format)\n",
        "* Test: The accumulated number of tests\n",
        "* Negative: The accumulated number of negative results\n",
        "* Comfirmed: The accumulated number of positive results\n",
        "* Released: The accumulated number of releases\n",
        "* Deceased: The accumulated number of deceases\n"
      ]
    },
    {
      "cell_type": "code",
      "metadata": {
        "id": "UCf4jxkvvcHJ",
        "colab_type": "code",
        "outputId": "0a118174-038c-48be-e238-d9616f0484f7",
        "colab": {
          "base_uri": "https://localhost:8080/",
          "height": 255
        }
      },
      "source": [
        "time.info()"
      ],
      "execution_count": 46,
      "outputs": [
        {
          "output_type": "stream",
          "text": [
            "<class 'pandas.core.frame.DataFrame'>\n",
            "RangeIndex: 85 entries, 0 to 84\n",
            "Data columns (total 7 columns):\n",
            " #   Column     Non-Null Count  Dtype \n",
            "---  ------     --------------  ----- \n",
            " 0   date       85 non-null     object\n",
            " 1   time       85 non-null     int64 \n",
            " 2   test       85 non-null     int64 \n",
            " 3   negative   85 non-null     int64 \n",
            " 4   confirmed  85 non-null     int64 \n",
            " 5   released   85 non-null     int64 \n",
            " 6   deceased   85 non-null     int64 \n",
            "dtypes: int64(6), object(1)\n",
            "memory usage: 4.8+ KB\n"
          ],
          "name": "stdout"
        }
      ]
    },
    {
      "cell_type": "code",
      "metadata": {
        "id": "KPvM44APUsSg",
        "colab_type": "code",
        "colab": {
          "base_uri": "https://localhost:8080/",
          "height": 204
        },
        "outputId": "09870526-a3b8-4046-f607-3a4b5f25b25c"
      },
      "source": [
        "time.head()"
      ],
      "execution_count": 47,
      "outputs": [
        {
          "output_type": "execute_result",
          "data": {
            "text/html": [
              "<div>\n",
              "<style scoped>\n",
              "    .dataframe tbody tr th:only-of-type {\n",
              "        vertical-align: middle;\n",
              "    }\n",
              "\n",
              "    .dataframe tbody tr th {\n",
              "        vertical-align: top;\n",
              "    }\n",
              "\n",
              "    .dataframe thead th {\n",
              "        text-align: right;\n",
              "    }\n",
              "</style>\n",
              "<table border=\"1\" class=\"dataframe\">\n",
              "  <thead>\n",
              "    <tr style=\"text-align: right;\">\n",
              "      <th></th>\n",
              "      <th>date</th>\n",
              "      <th>time</th>\n",
              "      <th>test</th>\n",
              "      <th>negative</th>\n",
              "      <th>confirmed</th>\n",
              "      <th>released</th>\n",
              "      <th>deceased</th>\n",
              "    </tr>\n",
              "  </thead>\n",
              "  <tbody>\n",
              "    <tr>\n",
              "      <th>0</th>\n",
              "      <td>2020-01-20</td>\n",
              "      <td>16</td>\n",
              "      <td>1</td>\n",
              "      <td>0</td>\n",
              "      <td>1</td>\n",
              "      <td>0</td>\n",
              "      <td>0</td>\n",
              "    </tr>\n",
              "    <tr>\n",
              "      <th>1</th>\n",
              "      <td>2020-01-21</td>\n",
              "      <td>16</td>\n",
              "      <td>1</td>\n",
              "      <td>0</td>\n",
              "      <td>1</td>\n",
              "      <td>0</td>\n",
              "      <td>0</td>\n",
              "    </tr>\n",
              "    <tr>\n",
              "      <th>2</th>\n",
              "      <td>2020-01-22</td>\n",
              "      <td>16</td>\n",
              "      <td>4</td>\n",
              "      <td>3</td>\n",
              "      <td>1</td>\n",
              "      <td>0</td>\n",
              "      <td>0</td>\n",
              "    </tr>\n",
              "    <tr>\n",
              "      <th>3</th>\n",
              "      <td>2020-01-23</td>\n",
              "      <td>16</td>\n",
              "      <td>22</td>\n",
              "      <td>21</td>\n",
              "      <td>1</td>\n",
              "      <td>0</td>\n",
              "      <td>0</td>\n",
              "    </tr>\n",
              "    <tr>\n",
              "      <th>4</th>\n",
              "      <td>2020-01-24</td>\n",
              "      <td>16</td>\n",
              "      <td>27</td>\n",
              "      <td>25</td>\n",
              "      <td>2</td>\n",
              "      <td>0</td>\n",
              "      <td>0</td>\n",
              "    </tr>\n",
              "  </tbody>\n",
              "</table>\n",
              "</div>"
            ],
            "text/plain": [
              "         date  time  test  negative  confirmed  released  deceased\n",
              "0  2020-01-20    16     1         0          1         0         0\n",
              "1  2020-01-21    16     1         0          1         0         0\n",
              "2  2020-01-22    16     4         3          1         0         0\n",
              "3  2020-01-23    16    22        21          1         0         0\n",
              "4  2020-01-24    16    27        25          2         0         0"
            ]
          },
          "metadata": {
            "tags": []
          },
          "execution_count": 47
        }
      ]
    },
    {
      "cell_type": "code",
      "metadata": {
        "id": "lQqLOf7cvcHL",
        "colab_type": "code",
        "outputId": "e210cd48-3c2b-4e5b-b3ca-1dede20d7c8f",
        "colab": {
          "base_uri": "https://localhost:8080/",
          "height": 297
        }
      },
      "source": [
        "time.describe()"
      ],
      "execution_count": 19,
      "outputs": [
        {
          "output_type": "execute_result",
          "data": {
            "text/html": [
              "<div>\n",
              "<style scoped>\n",
              "    .dataframe tbody tr th:only-of-type {\n",
              "        vertical-align: middle;\n",
              "    }\n",
              "\n",
              "    .dataframe tbody tr th {\n",
              "        vertical-align: top;\n",
              "    }\n",
              "\n",
              "    .dataframe thead th {\n",
              "        text-align: right;\n",
              "    }\n",
              "</style>\n",
              "<table border=\"1\" class=\"dataframe\">\n",
              "  <thead>\n",
              "    <tr style=\"text-align: right;\">\n",
              "      <th></th>\n",
              "      <th>time</th>\n",
              "      <th>test</th>\n",
              "      <th>negative</th>\n",
              "      <th>confirmed</th>\n",
              "      <th>released</th>\n",
              "      <th>deceased</th>\n",
              "    </tr>\n",
              "  </thead>\n",
              "  <tbody>\n",
              "    <tr>\n",
              "      <th>count</th>\n",
              "      <td>85.000000</td>\n",
              "      <td>85.000000</td>\n",
              "      <td>85.000000</td>\n",
              "      <td>85.000000</td>\n",
              "      <td>85.000000</td>\n",
              "      <td>85.000000</td>\n",
              "    </tr>\n",
              "    <tr>\n",
              "      <th>mean</th>\n",
              "      <td>7.905882</td>\n",
              "      <td>176692.447059</td>\n",
              "      <td>160680.811765</td>\n",
              "      <td>4573.588235</td>\n",
              "      <td>1691.094118</td>\n",
              "      <td>60.894118</td>\n",
              "    </tr>\n",
              "    <tr>\n",
              "      <th>std</th>\n",
              "      <td>8.046921</td>\n",
              "      <td>183124.164954</td>\n",
              "      <td>173503.582977</td>\n",
              "      <td>4367.632764</td>\n",
              "      <td>2549.754450</td>\n",
              "      <td>72.455245</td>\n",
              "    </tr>\n",
              "    <tr>\n",
              "      <th>min</th>\n",
              "      <td>0.000000</td>\n",
              "      <td>1.000000</td>\n",
              "      <td>0.000000</td>\n",
              "      <td>1.000000</td>\n",
              "      <td>0.000000</td>\n",
              "      <td>0.000000</td>\n",
              "    </tr>\n",
              "    <tr>\n",
              "      <th>25%</th>\n",
              "      <td>0.000000</td>\n",
              "      <td>3110.000000</td>\n",
              "      <td>2552.000000</td>\n",
              "      <td>27.000000</td>\n",
              "      <td>4.000000</td>\n",
              "      <td>0.000000</td>\n",
              "    </tr>\n",
              "    <tr>\n",
              "      <th>50%</th>\n",
              "      <td>0.000000</td>\n",
              "      <td>109591.000000</td>\n",
              "      <td>71580.000000</td>\n",
              "      <td>4212.000000</td>\n",
              "      <td>31.000000</td>\n",
              "      <td>22.000000</td>\n",
              "    </tr>\n",
              "    <tr>\n",
              "      <th>75%</th>\n",
              "      <td>16.000000</td>\n",
              "      <td>338036.000000</td>\n",
              "      <td>315447.000000</td>\n",
              "      <td>8961.000000</td>\n",
              "      <td>3166.000000</td>\n",
              "      <td>111.000000</td>\n",
              "    </tr>\n",
              "    <tr>\n",
              "      <th>max</th>\n",
              "      <td>16.000000</td>\n",
              "      <td>518743.000000</td>\n",
              "      <td>494815.000000</td>\n",
              "      <td>10537.000000</td>\n",
              "      <td>7447.000000</td>\n",
              "      <td>217.000000</td>\n",
              "    </tr>\n",
              "  </tbody>\n",
              "</table>\n",
              "</div>"
            ],
            "text/plain": [
              "            time           test  ...     released    deceased\n",
              "count  85.000000      85.000000  ...    85.000000   85.000000\n",
              "mean    7.905882  176692.447059  ...  1691.094118   60.894118\n",
              "std     8.046921  183124.164954  ...  2549.754450   72.455245\n",
              "min     0.000000       1.000000  ...     0.000000    0.000000\n",
              "25%     0.000000    3110.000000  ...     4.000000    0.000000\n",
              "50%     0.000000  109591.000000  ...    31.000000   22.000000\n",
              "75%    16.000000  338036.000000  ...  3166.000000  111.000000\n",
              "max    16.000000  518743.000000  ...  7447.000000  217.000000\n",
              "\n",
              "[8 rows x 6 columns]"
            ]
          },
          "metadata": {
            "tags": []
          },
          "execution_count": 19
        }
      ]
    },
    {
      "cell_type": "markdown",
      "metadata": {
        "id": "bgGgKvNYVJ6Y",
        "colab_type": "text"
      },
      "source": [
        "### Description of Time series data of COVID-19 status in terms of the age\n",
        "\n",
        "* Date: Date of cases (format: YYYY-MM-DD)\n",
        "* Time: Time (24 Hours format)\n",
        "* Age: The age of patients (Age group in 10 years format)\n",
        "* Comfirmed: The accumulated number of the confirmed case\n",
        "* Deceased: The accumulated number of the deceased case"
      ]
    },
    {
      "cell_type": "code",
      "metadata": {
        "id": "RXLlzOLEvcHN",
        "colab_type": "code",
        "outputId": "09da0b50-6344-490d-8511-9a115057dfd1",
        "colab": {
          "base_uri": "https://localhost:8080/",
          "height": 221
        }
      },
      "source": [
        "timeage.info()"
      ],
      "execution_count": 49,
      "outputs": [
        {
          "output_type": "stream",
          "text": [
            "<class 'pandas.core.frame.DataFrame'>\n",
            "RangeIndex: 387 entries, 0 to 386\n",
            "Data columns (total 5 columns):\n",
            " #   Column     Non-Null Count  Dtype \n",
            "---  ------     --------------  ----- \n",
            " 0   date       387 non-null    object\n",
            " 1   time       387 non-null    int64 \n",
            " 2   age        387 non-null    object\n",
            " 3   confirmed  387 non-null    int64 \n",
            " 4   deceased   387 non-null    int64 \n",
            "dtypes: int64(3), object(2)\n",
            "memory usage: 15.2+ KB\n"
          ],
          "name": "stdout"
        }
      ]
    },
    {
      "cell_type": "code",
      "metadata": {
        "id": "XxO77EKiZQd7",
        "colab_type": "code",
        "colab": {
          "base_uri": "https://localhost:8080/",
          "height": 204
        },
        "outputId": "62e3e881-8068-4937-c608-1f21ae8a1049"
      },
      "source": [
        "timeage.head()"
      ],
      "execution_count": 50,
      "outputs": [
        {
          "output_type": "execute_result",
          "data": {
            "text/html": [
              "<div>\n",
              "<style scoped>\n",
              "    .dataframe tbody tr th:only-of-type {\n",
              "        vertical-align: middle;\n",
              "    }\n",
              "\n",
              "    .dataframe tbody tr th {\n",
              "        vertical-align: top;\n",
              "    }\n",
              "\n",
              "    .dataframe thead th {\n",
              "        text-align: right;\n",
              "    }\n",
              "</style>\n",
              "<table border=\"1\" class=\"dataframe\">\n",
              "  <thead>\n",
              "    <tr style=\"text-align: right;\">\n",
              "      <th></th>\n",
              "      <th>date</th>\n",
              "      <th>time</th>\n",
              "      <th>age</th>\n",
              "      <th>confirmed</th>\n",
              "      <th>deceased</th>\n",
              "    </tr>\n",
              "  </thead>\n",
              "  <tbody>\n",
              "    <tr>\n",
              "      <th>0</th>\n",
              "      <td>2020-03-02</td>\n",
              "      <td>0</td>\n",
              "      <td>0s</td>\n",
              "      <td>32</td>\n",
              "      <td>0</td>\n",
              "    </tr>\n",
              "    <tr>\n",
              "      <th>1</th>\n",
              "      <td>2020-03-02</td>\n",
              "      <td>0</td>\n",
              "      <td>10s</td>\n",
              "      <td>169</td>\n",
              "      <td>0</td>\n",
              "    </tr>\n",
              "    <tr>\n",
              "      <th>2</th>\n",
              "      <td>2020-03-02</td>\n",
              "      <td>0</td>\n",
              "      <td>20s</td>\n",
              "      <td>1235</td>\n",
              "      <td>0</td>\n",
              "    </tr>\n",
              "    <tr>\n",
              "      <th>3</th>\n",
              "      <td>2020-03-02</td>\n",
              "      <td>0</td>\n",
              "      <td>30s</td>\n",
              "      <td>506</td>\n",
              "      <td>1</td>\n",
              "    </tr>\n",
              "    <tr>\n",
              "      <th>4</th>\n",
              "      <td>2020-03-02</td>\n",
              "      <td>0</td>\n",
              "      <td>40s</td>\n",
              "      <td>633</td>\n",
              "      <td>1</td>\n",
              "    </tr>\n",
              "  </tbody>\n",
              "</table>\n",
              "</div>"
            ],
            "text/plain": [
              "         date  time  age  confirmed  deceased\n",
              "0  2020-03-02     0   0s         32         0\n",
              "1  2020-03-02     0  10s        169         0\n",
              "2  2020-03-02     0  20s       1235         0\n",
              "3  2020-03-02     0  30s        506         1\n",
              "4  2020-03-02     0  40s        633         1"
            ]
          },
          "metadata": {
            "tags": []
          },
          "execution_count": 50
        }
      ]
    },
    {
      "cell_type": "code",
      "metadata": {
        "id": "uI0nexMlvcHP",
        "colab_type": "code",
        "outputId": "5cd54d10-0bcf-472d-ed28-841a210d7be3",
        "colab": {
          "base_uri": "https://localhost:8080/",
          "height": 297
        }
      },
      "source": [
        "timeage.describe()"
      ],
      "execution_count": 21,
      "outputs": [
        {
          "output_type": "execute_result",
          "data": {
            "text/html": [
              "<div>\n",
              "<style scoped>\n",
              "    .dataframe tbody tr th:only-of-type {\n",
              "        vertical-align: middle;\n",
              "    }\n",
              "\n",
              "    .dataframe tbody tr th {\n",
              "        vertical-align: top;\n",
              "    }\n",
              "\n",
              "    .dataframe thead th {\n",
              "        text-align: right;\n",
              "    }\n",
              "</style>\n",
              "<table border=\"1\" class=\"dataframe\">\n",
              "  <thead>\n",
              "    <tr style=\"text-align: right;\">\n",
              "      <th></th>\n",
              "      <th>time</th>\n",
              "      <th>confirmed</th>\n",
              "      <th>deceased</th>\n",
              "    </tr>\n",
              "  </thead>\n",
              "  <tbody>\n",
              "    <tr>\n",
              "      <th>count</th>\n",
              "      <td>387.0</td>\n",
              "      <td>387.000000</td>\n",
              "      <td>387.000000</td>\n",
              "    </tr>\n",
              "    <tr>\n",
              "      <th>mean</th>\n",
              "      <td>0.0</td>\n",
              "      <td>963.503876</td>\n",
              "      <td>13.105943</td>\n",
              "    </tr>\n",
              "    <tr>\n",
              "      <th>std</th>\n",
              "      <td>0.0</td>\n",
              "      <td>712.198877</td>\n",
              "      <td>22.087828</td>\n",
              "    </tr>\n",
              "    <tr>\n",
              "      <th>min</th>\n",
              "      <td>0.0</td>\n",
              "      <td>32.000000</td>\n",
              "      <td>0.000000</td>\n",
              "    </tr>\n",
              "    <tr>\n",
              "      <th>25%</th>\n",
              "      <td>0.0</td>\n",
              "      <td>440.000000</td>\n",
              "      <td>0.000000</td>\n",
              "    </tr>\n",
              "    <tr>\n",
              "      <th>50%</th>\n",
              "      <td>0.0</td>\n",
              "      <td>833.000000</td>\n",
              "      <td>1.000000</td>\n",
              "    </tr>\n",
              "    <tr>\n",
              "      <th>75%</th>\n",
              "      <td>0.0</td>\n",
              "      <td>1313.000000</td>\n",
              "      <td>16.500000</td>\n",
              "    </tr>\n",
              "    <tr>\n",
              "      <th>max</th>\n",
              "      <td>0.0</td>\n",
              "      <td>2879.000000</td>\n",
              "      <td>103.000000</td>\n",
              "    </tr>\n",
              "  </tbody>\n",
              "</table>\n",
              "</div>"
            ],
            "text/plain": [
              "        time    confirmed    deceased\n",
              "count  387.0   387.000000  387.000000\n",
              "mean     0.0   963.503876   13.105943\n",
              "std      0.0   712.198877   22.087828\n",
              "min      0.0    32.000000    0.000000\n",
              "25%      0.0   440.000000    0.000000\n",
              "50%      0.0   833.000000    1.000000\n",
              "75%      0.0  1313.000000   16.500000\n",
              "max      0.0  2879.000000  103.000000"
            ]
          },
          "metadata": {
            "tags": []
          },
          "execution_count": 21
        }
      ]
    },
    {
      "cell_type": "markdown",
      "metadata": {
        "id": "LibL7MGLZUUY",
        "colab_type": "text"
      },
      "source": [
        "### Description of Time series data in term of gender\n",
        "\n",
        "* Date: Date of cases (format: YYYY-MM-DD)\n",
        "* Time: Time (24 Hours format)\n",
        "* Sex: The gender of patients\n",
        "* Comfirmed: The accumulated number of the confirmed case\n",
        "* Deceased: The accumulated number of the deceased case"
      ]
    },
    {
      "cell_type": "code",
      "metadata": {
        "id": "Ta8h-aa4vcHR",
        "colab_type": "code",
        "outputId": "36e2eaca-1e1a-4de7-f611-97f08416c32c",
        "colab": {
          "base_uri": "https://localhost:8080/",
          "height": 221
        }
      },
      "source": [
        "timegender.info()"
      ],
      "execution_count": 22,
      "outputs": [
        {
          "output_type": "stream",
          "text": [
            "<class 'pandas.core.frame.DataFrame'>\n",
            "RangeIndex: 86 entries, 0 to 85\n",
            "Data columns (total 5 columns):\n",
            " #   Column     Non-Null Count  Dtype \n",
            "---  ------     --------------  ----- \n",
            " 0   date       86 non-null     object\n",
            " 1   time       86 non-null     int64 \n",
            " 2   sex        86 non-null     object\n",
            " 3   confirmed  86 non-null     int64 \n",
            " 4   deceased   86 non-null     int64 \n",
            "dtypes: int64(3), object(2)\n",
            "memory usage: 3.5+ KB\n"
          ],
          "name": "stdout"
        }
      ]
    },
    {
      "cell_type": "code",
      "metadata": {
        "id": "GQsKN1mLZhin",
        "colab_type": "code",
        "colab": {
          "base_uri": "https://localhost:8080/",
          "height": 204
        },
        "outputId": "da73f190-9d6a-418e-992c-87343013cc20"
      },
      "source": [
        "timegender.head()"
      ],
      "execution_count": 51,
      "outputs": [
        {
          "output_type": "execute_result",
          "data": {
            "text/html": [
              "<div>\n",
              "<style scoped>\n",
              "    .dataframe tbody tr th:only-of-type {\n",
              "        vertical-align: middle;\n",
              "    }\n",
              "\n",
              "    .dataframe tbody tr th {\n",
              "        vertical-align: top;\n",
              "    }\n",
              "\n",
              "    .dataframe thead th {\n",
              "        text-align: right;\n",
              "    }\n",
              "</style>\n",
              "<table border=\"1\" class=\"dataframe\">\n",
              "  <thead>\n",
              "    <tr style=\"text-align: right;\">\n",
              "      <th></th>\n",
              "      <th>date</th>\n",
              "      <th>time</th>\n",
              "      <th>sex</th>\n",
              "      <th>confirmed</th>\n",
              "      <th>deceased</th>\n",
              "    </tr>\n",
              "  </thead>\n",
              "  <tbody>\n",
              "    <tr>\n",
              "      <th>0</th>\n",
              "      <td>2020-03-02</td>\n",
              "      <td>0</td>\n",
              "      <td>male</td>\n",
              "      <td>1591</td>\n",
              "      <td>13</td>\n",
              "    </tr>\n",
              "    <tr>\n",
              "      <th>1</th>\n",
              "      <td>2020-03-02</td>\n",
              "      <td>0</td>\n",
              "      <td>female</td>\n",
              "      <td>2621</td>\n",
              "      <td>9</td>\n",
              "    </tr>\n",
              "    <tr>\n",
              "      <th>2</th>\n",
              "      <td>2020-03-03</td>\n",
              "      <td>0</td>\n",
              "      <td>male</td>\n",
              "      <td>1810</td>\n",
              "      <td>16</td>\n",
              "    </tr>\n",
              "    <tr>\n",
              "      <th>3</th>\n",
              "      <td>2020-03-03</td>\n",
              "      <td>0</td>\n",
              "      <td>female</td>\n",
              "      <td>3002</td>\n",
              "      <td>12</td>\n",
              "    </tr>\n",
              "    <tr>\n",
              "      <th>4</th>\n",
              "      <td>2020-03-04</td>\n",
              "      <td>0</td>\n",
              "      <td>male</td>\n",
              "      <td>1996</td>\n",
              "      <td>20</td>\n",
              "    </tr>\n",
              "  </tbody>\n",
              "</table>\n",
              "</div>"
            ],
            "text/plain": [
              "         date  time     sex  confirmed  deceased\n",
              "0  2020-03-02     0    male       1591        13\n",
              "1  2020-03-02     0  female       2621         9\n",
              "2  2020-03-03     0    male       1810        16\n",
              "3  2020-03-03     0  female       3002        12\n",
              "4  2020-03-04     0    male       1996        20"
            ]
          },
          "metadata": {
            "tags": []
          },
          "execution_count": 51
        }
      ]
    },
    {
      "cell_type": "code",
      "metadata": {
        "id": "lopncrzWvcHT",
        "colab_type": "code",
        "outputId": "16645364-1466-4c2c-e48a-3e54fa61ae57",
        "colab": {
          "base_uri": "https://localhost:8080/",
          "height": 297
        }
      },
      "source": [
        "timegender.describe()"
      ],
      "execution_count": 23,
      "outputs": [
        {
          "output_type": "execute_result",
          "data": {
            "text/html": [
              "<div>\n",
              "<style scoped>\n",
              "    .dataframe tbody tr th:only-of-type {\n",
              "        vertical-align: middle;\n",
              "    }\n",
              "\n",
              "    .dataframe tbody tr th {\n",
              "        vertical-align: top;\n",
              "    }\n",
              "\n",
              "    .dataframe thead th {\n",
              "        text-align: right;\n",
              "    }\n",
              "</style>\n",
              "<table border=\"1\" class=\"dataframe\">\n",
              "  <thead>\n",
              "    <tr style=\"text-align: right;\">\n",
              "      <th></th>\n",
              "      <th>time</th>\n",
              "      <th>confirmed</th>\n",
              "      <th>deceased</th>\n",
              "    </tr>\n",
              "  </thead>\n",
              "  <tbody>\n",
              "    <tr>\n",
              "      <th>count</th>\n",
              "      <td>86.0</td>\n",
              "      <td>86.000000</td>\n",
              "      <td>86.000000</td>\n",
              "    </tr>\n",
              "    <tr>\n",
              "      <th>mean</th>\n",
              "      <td>0.0</td>\n",
              "      <td>4335.651163</td>\n",
              "      <td>58.965116</td>\n",
              "    </tr>\n",
              "    <tr>\n",
              "      <th>std</th>\n",
              "      <td>0.0</td>\n",
              "      <td>1257.367406</td>\n",
              "      <td>30.655370</td>\n",
              "    </tr>\n",
              "    <tr>\n",
              "      <th>min</th>\n",
              "      <td>0.0</td>\n",
              "      <td>1591.000000</td>\n",
              "      <td>9.000000</td>\n",
              "    </tr>\n",
              "    <tr>\n",
              "      <th>25%</th>\n",
              "      <td>0.0</td>\n",
              "      <td>3345.750000</td>\n",
              "      <td>33.250000</td>\n",
              "    </tr>\n",
              "    <tr>\n",
              "      <th>50%</th>\n",
              "      <td>0.0</td>\n",
              "      <td>4174.000000</td>\n",
              "      <td>56.500000</td>\n",
              "    </tr>\n",
              "    <tr>\n",
              "      <th>75%</th>\n",
              "      <td>0.0</td>\n",
              "      <td>5494.750000</td>\n",
              "      <td>83.750000</td>\n",
              "    </tr>\n",
              "    <tr>\n",
              "      <th>max</th>\n",
              "      <td>0.0</td>\n",
              "      <td>6294.000000</td>\n",
              "      <td>115.000000</td>\n",
              "    </tr>\n",
              "  </tbody>\n",
              "</table>\n",
              "</div>"
            ],
            "text/plain": [
              "       time    confirmed    deceased\n",
              "count  86.0    86.000000   86.000000\n",
              "mean    0.0  4335.651163   58.965116\n",
              "std     0.0  1257.367406   30.655370\n",
              "min     0.0  1591.000000    9.000000\n",
              "25%     0.0  3345.750000   33.250000\n",
              "50%     0.0  4174.000000   56.500000\n",
              "75%     0.0  5494.750000   83.750000\n",
              "max     0.0  6294.000000  115.000000"
            ]
          },
          "metadata": {
            "tags": []
          },
          "execution_count": 23
        }
      ]
    },
    {
      "cell_type": "markdown",
      "metadata": {
        "id": "odZ-mjyqaF6I",
        "colab_type": "text"
      },
      "source": [
        "### Description of Time series data in term of Province\n",
        "\n",
        "* Date: Date of cases (format: YYYY-MM-DD)\n",
        "* Time: Time (24 Hours format)\n",
        "* Province: The name of the province\n",
        "* Comfirmed: The accumulated number of the comfirmed in the province\n",
        "* Released: The accumulated number of the released in the province\n",
        "* Deceased: The accumulated number of the deceased in the province"
      ]
    },
    {
      "cell_type": "code",
      "metadata": {
        "id": "lHQji629vcHY",
        "colab_type": "code",
        "outputId": "94264e63-88ef-4f9f-ac55-fd2b34b0ce83",
        "colab": {
          "base_uri": "https://localhost:8080/",
          "height": 238
        }
      },
      "source": [
        "timeprovince.info()"
      ],
      "execution_count": 25,
      "outputs": [
        {
          "output_type": "stream",
          "text": [
            "<class 'pandas.core.frame.DataFrame'>\n",
            "RangeIndex: 1445 entries, 0 to 1444\n",
            "Data columns (total 6 columns):\n",
            " #   Column     Non-Null Count  Dtype \n",
            "---  ------     --------------  ----- \n",
            " 0   date       1445 non-null   object\n",
            " 1   time       1445 non-null   int64 \n",
            " 2   province   1445 non-null   object\n",
            " 3   confirmed  1445 non-null   int64 \n",
            " 4   released   1445 non-null   int64 \n",
            " 5   deceased   1445 non-null   int64 \n",
            "dtypes: int64(4), object(2)\n",
            "memory usage: 67.9+ KB\n"
          ],
          "name": "stdout"
        }
      ]
    },
    {
      "cell_type": "markdown",
      "metadata": {
        "id": "NYgmjbNTvcHd",
        "colab_type": "text"
      },
      "source": [
        "## Region Section"
      ]
    },
    {
      "cell_type": "markdown",
      "metadata": {
        "id": "WCnhCD-_agD6",
        "colab_type": "text"
      },
      "source": [
        "### Description data of the regions\n",
        "\n",
        "* Code: The code of the region\n",
        "* Province: The name of the province\n",
        "* City: The name of the city\n",
        "* Latitude: Latitude of the region\n",
        "* Longitude: Longitude of the region\n",
        "* Elementary School Count: The number of elementary schools region\n",
        "* Kindergarten Count: The number of kindergardens region\n",
        "* University Count: The number of universities in the region\n",
        "* Academy ratio: The ration of academies\n",
        "* Elderly Population Ratio: The ratio of the elderly population\n",
        "* Elderly Alone Ratio: The ratio of elderly households living alone\n",
        "* Nursing Home Count: The number of nursing homes in the region\n"
      ]
    },
    {
      "cell_type": "code",
      "metadata": {
        "id": "XupnhXeuvcHe",
        "colab_type": "code",
        "outputId": "d0b48c4e-62aa-4a5b-bf13-5e272301de0c",
        "colab": {
          "base_uri": "https://localhost:8080/",
          "height": 340
        }
      },
      "source": [
        "region.info()"
      ],
      "execution_count": 27,
      "outputs": [
        {
          "output_type": "stream",
          "text": [
            "<class 'pandas.core.frame.DataFrame'>\n",
            "RangeIndex: 244 entries, 0 to 243\n",
            "Data columns (total 12 columns):\n",
            " #   Column                    Non-Null Count  Dtype  \n",
            "---  ------                    --------------  -----  \n",
            " 0   code                      244 non-null    int64  \n",
            " 1   province                  244 non-null    object \n",
            " 2   city                      244 non-null    object \n",
            " 3   latitude                  244 non-null    float64\n",
            " 4   longitude                 244 non-null    float64\n",
            " 5   elementary_school_count   244 non-null    int64  \n",
            " 6   kindergarten_count        244 non-null    int64  \n",
            " 7   university_count          244 non-null    int64  \n",
            " 8   academy_ratio             244 non-null    float64\n",
            " 9   elderly_population_ratio  244 non-null    float64\n",
            " 10  elderly_alone_ratio       244 non-null    float64\n",
            " 11  nursing_home_count        244 non-null    int64  \n",
            "dtypes: float64(5), int64(5), object(2)\n",
            "memory usage: 23.0+ KB\n"
          ],
          "name": "stdout"
        }
      ]
    },
    {
      "cell_type": "code",
      "metadata": {
        "id": "ClXNgp0GcUu3",
        "colab_type": "code",
        "colab": {
          "base_uri": "https://localhost:8080/",
          "height": 204
        },
        "outputId": "7473614c-c8d2-4c29-ae7c-2e286a70438e"
      },
      "source": [
        "region.head()"
      ],
      "execution_count": 53,
      "outputs": [
        {
          "output_type": "execute_result",
          "data": {
            "text/html": [
              "<div>\n",
              "<style scoped>\n",
              "    .dataframe tbody tr th:only-of-type {\n",
              "        vertical-align: middle;\n",
              "    }\n",
              "\n",
              "    .dataframe tbody tr th {\n",
              "        vertical-align: top;\n",
              "    }\n",
              "\n",
              "    .dataframe thead th {\n",
              "        text-align: right;\n",
              "    }\n",
              "</style>\n",
              "<table border=\"1\" class=\"dataframe\">\n",
              "  <thead>\n",
              "    <tr style=\"text-align: right;\">\n",
              "      <th></th>\n",
              "      <th>code</th>\n",
              "      <th>province</th>\n",
              "      <th>city</th>\n",
              "      <th>latitude</th>\n",
              "      <th>longitude</th>\n",
              "      <th>elementary_school_count</th>\n",
              "      <th>kindergarten_count</th>\n",
              "      <th>university_count</th>\n",
              "      <th>academy_ratio</th>\n",
              "      <th>elderly_population_ratio</th>\n",
              "      <th>elderly_alone_ratio</th>\n",
              "      <th>nursing_home_count</th>\n",
              "    </tr>\n",
              "  </thead>\n",
              "  <tbody>\n",
              "    <tr>\n",
              "      <th>0</th>\n",
              "      <td>10000</td>\n",
              "      <td>Seoul</td>\n",
              "      <td>Seoul</td>\n",
              "      <td>37.566953</td>\n",
              "      <td>126.977977</td>\n",
              "      <td>607</td>\n",
              "      <td>830</td>\n",
              "      <td>48</td>\n",
              "      <td>1.44</td>\n",
              "      <td>15.38</td>\n",
              "      <td>5.8</td>\n",
              "      <td>22739</td>\n",
              "    </tr>\n",
              "    <tr>\n",
              "      <th>1</th>\n",
              "      <td>10010</td>\n",
              "      <td>Seoul</td>\n",
              "      <td>Gangnam-gu</td>\n",
              "      <td>37.518421</td>\n",
              "      <td>127.047222</td>\n",
              "      <td>33</td>\n",
              "      <td>38</td>\n",
              "      <td>0</td>\n",
              "      <td>4.18</td>\n",
              "      <td>13.17</td>\n",
              "      <td>4.3</td>\n",
              "      <td>3088</td>\n",
              "    </tr>\n",
              "    <tr>\n",
              "      <th>2</th>\n",
              "      <td>10020</td>\n",
              "      <td>Seoul</td>\n",
              "      <td>Gangdong-gu</td>\n",
              "      <td>37.530492</td>\n",
              "      <td>127.123837</td>\n",
              "      <td>27</td>\n",
              "      <td>32</td>\n",
              "      <td>0</td>\n",
              "      <td>1.54</td>\n",
              "      <td>14.55</td>\n",
              "      <td>5.4</td>\n",
              "      <td>1023</td>\n",
              "    </tr>\n",
              "    <tr>\n",
              "      <th>3</th>\n",
              "      <td>10030</td>\n",
              "      <td>Seoul</td>\n",
              "      <td>Gangbuk-gu</td>\n",
              "      <td>37.639938</td>\n",
              "      <td>127.025508</td>\n",
              "      <td>14</td>\n",
              "      <td>21</td>\n",
              "      <td>0</td>\n",
              "      <td>0.67</td>\n",
              "      <td>19.49</td>\n",
              "      <td>8.5</td>\n",
              "      <td>628</td>\n",
              "    </tr>\n",
              "    <tr>\n",
              "      <th>4</th>\n",
              "      <td>10040</td>\n",
              "      <td>Seoul</td>\n",
              "      <td>Gangseo-gu</td>\n",
              "      <td>37.551166</td>\n",
              "      <td>126.849506</td>\n",
              "      <td>36</td>\n",
              "      <td>56</td>\n",
              "      <td>1</td>\n",
              "      <td>1.17</td>\n",
              "      <td>14.39</td>\n",
              "      <td>5.7</td>\n",
              "      <td>1080</td>\n",
              "    </tr>\n",
              "  </tbody>\n",
              "</table>\n",
              "</div>"
            ],
            "text/plain": [
              "    code province  ... elderly_alone_ratio  nursing_home_count\n",
              "0  10000    Seoul  ...                 5.8               22739\n",
              "1  10010    Seoul  ...                 4.3                3088\n",
              "2  10020    Seoul  ...                 5.4                1023\n",
              "3  10030    Seoul  ...                 8.5                 628\n",
              "4  10040    Seoul  ...                 5.7                1080\n",
              "\n",
              "[5 rows x 12 columns]"
            ]
          },
          "metadata": {
            "tags": []
          },
          "execution_count": 53
        }
      ]
    },
    {
      "cell_type": "code",
      "metadata": {
        "id": "G2dcTZpHvcHf",
        "colab_type": "code",
        "outputId": "4116d0d0-cbb5-4d65-ad89-05608028e563",
        "colab": {
          "base_uri": "https://localhost:8080/",
          "height": 297
        }
      },
      "source": [
        "region[[\"elementary_school_count\", \"kindergarten_count\",\t\"university_count\",\t\"academy_ratio\",\t\"elderly_population_ratio\",\t\"elderly_alone_ratio\",\t\"nursing_home_count\"]].describe()"
      ],
      "execution_count": 52,
      "outputs": [
        {
          "output_type": "execute_result",
          "data": {
            "text/html": [
              "<div>\n",
              "<style scoped>\n",
              "    .dataframe tbody tr th:only-of-type {\n",
              "        vertical-align: middle;\n",
              "    }\n",
              "\n",
              "    .dataframe tbody tr th {\n",
              "        vertical-align: top;\n",
              "    }\n",
              "\n",
              "    .dataframe thead th {\n",
              "        text-align: right;\n",
              "    }\n",
              "</style>\n",
              "<table border=\"1\" class=\"dataframe\">\n",
              "  <thead>\n",
              "    <tr style=\"text-align: right;\">\n",
              "      <th></th>\n",
              "      <th>elementary_school_count</th>\n",
              "      <th>kindergarten_count</th>\n",
              "      <th>university_count</th>\n",
              "      <th>academy_ratio</th>\n",
              "      <th>elderly_population_ratio</th>\n",
              "      <th>elderly_alone_ratio</th>\n",
              "      <th>nursing_home_count</th>\n",
              "    </tr>\n",
              "  </thead>\n",
              "  <tbody>\n",
              "    <tr>\n",
              "      <th>count</th>\n",
              "      <td>244.000000</td>\n",
              "      <td>244.000000</td>\n",
              "      <td>244.000000</td>\n",
              "      <td>244.000000</td>\n",
              "      <td>244.000000</td>\n",
              "      <td>244.000000</td>\n",
              "      <td>244.000000</td>\n",
              "    </tr>\n",
              "    <tr>\n",
              "      <th>mean</th>\n",
              "      <td>74.180328</td>\n",
              "      <td>107.901639</td>\n",
              "      <td>4.151639</td>\n",
              "      <td>1.294754</td>\n",
              "      <td>20.923730</td>\n",
              "      <td>10.644672</td>\n",
              "      <td>1159.258197</td>\n",
              "    </tr>\n",
              "    <tr>\n",
              "      <th>std</th>\n",
              "      <td>402.713482</td>\n",
              "      <td>588.788320</td>\n",
              "      <td>22.513041</td>\n",
              "      <td>0.592898</td>\n",
              "      <td>8.087428</td>\n",
              "      <td>5.604886</td>\n",
              "      <td>6384.185085</td>\n",
              "    </tr>\n",
              "    <tr>\n",
              "      <th>min</th>\n",
              "      <td>4.000000</td>\n",
              "      <td>4.000000</td>\n",
              "      <td>0.000000</td>\n",
              "      <td>0.190000</td>\n",
              "      <td>7.690000</td>\n",
              "      <td>3.300000</td>\n",
              "      <td>11.000000</td>\n",
              "    </tr>\n",
              "    <tr>\n",
              "      <th>25%</th>\n",
              "      <td>14.750000</td>\n",
              "      <td>16.000000</td>\n",
              "      <td>0.000000</td>\n",
              "      <td>0.870000</td>\n",
              "      <td>14.117500</td>\n",
              "      <td>6.100000</td>\n",
              "      <td>111.000000</td>\n",
              "    </tr>\n",
              "    <tr>\n",
              "      <th>50%</th>\n",
              "      <td>22.000000</td>\n",
              "      <td>31.000000</td>\n",
              "      <td>1.000000</td>\n",
              "      <td>1.270000</td>\n",
              "      <td>18.530000</td>\n",
              "      <td>8.750000</td>\n",
              "      <td>300.000000</td>\n",
              "    </tr>\n",
              "    <tr>\n",
              "      <th>75%</th>\n",
              "      <td>36.250000</td>\n",
              "      <td>55.250000</td>\n",
              "      <td>3.000000</td>\n",
              "      <td>1.612500</td>\n",
              "      <td>27.262500</td>\n",
              "      <td>14.625000</td>\n",
              "      <td>694.500000</td>\n",
              "    </tr>\n",
              "    <tr>\n",
              "      <th>max</th>\n",
              "      <td>6087.000000</td>\n",
              "      <td>8837.000000</td>\n",
              "      <td>340.000000</td>\n",
              "      <td>4.180000</td>\n",
              "      <td>40.260000</td>\n",
              "      <td>24.700000</td>\n",
              "      <td>94865.000000</td>\n",
              "    </tr>\n",
              "  </tbody>\n",
              "</table>\n",
              "</div>"
            ],
            "text/plain": [
              "       elementary_school_count  ...  nursing_home_count\n",
              "count               244.000000  ...          244.000000\n",
              "mean                 74.180328  ...         1159.258197\n",
              "std                 402.713482  ...         6384.185085\n",
              "min                   4.000000  ...           11.000000\n",
              "25%                  14.750000  ...          111.000000\n",
              "50%                  22.000000  ...          300.000000\n",
              "75%                  36.250000  ...          694.500000\n",
              "max                6087.000000  ...        94865.000000\n",
              "\n",
              "[8 rows x 7 columns]"
            ]
          },
          "metadata": {
            "tags": []
          },
          "execution_count": 52
        }
      ]
    },
    {
      "cell_type": "markdown",
      "metadata": {
        "id": "mLG3SxI8vcHj",
        "colab_type": "text"
      },
      "source": [
        "## Weather section"
      ]
    },
    {
      "cell_type": "markdown",
      "metadata": {
        "id": "akaKY1m_cZMk",
        "colab_type": "text"
      },
      "source": [
        "### Description data of the weather\n",
        "\n",
        "* Code: The code of the region\n",
        "* Province: The name of the province\n",
        "* Date: Date (format: YYYY-MM-DD)\n",
        "* avg_temp: The average temperature\n",
        "* min_temp: The lowest temperature\n",
        "* max_temp: The highest temperature\n",
        "* precipitation: The daily precipitation\n",
        "* max_wind_speed: The maximum wind speed\n",
        "* most_wind_direction: The most frequent wind direction\n",
        "* avg_relative_humidity: The average relative humidity"
      ]
    },
    {
      "cell_type": "code",
      "metadata": {
        "id": "B6EnwHIkvcHj",
        "colab_type": "code",
        "outputId": "86077d80-2cd0-4db4-e1fb-6a0778802291",
        "colab": {
          "base_uri": "https://localhost:8080/",
          "height": 306
        }
      },
      "source": [
        "weather.info()"
      ],
      "execution_count": 30,
      "outputs": [
        {
          "output_type": "stream",
          "text": [
            "<class 'pandas.core.frame.DataFrame'>\n",
            "RangeIndex: 25023 entries, 0 to 25022\n",
            "Data columns (total 10 columns):\n",
            " #   Column                 Non-Null Count  Dtype  \n",
            "---  ------                 --------------  -----  \n",
            " 0   code                   25023 non-null  int64  \n",
            " 1   province               25023 non-null  object \n",
            " 2   date                   25023 non-null  object \n",
            " 3   avg_temp               25008 non-null  float64\n",
            " 4   min_temp               25018 non-null  float64\n",
            " 5   max_temp               25020 non-null  float64\n",
            " 6   precipitation          25023 non-null  float64\n",
            " 7   max_wind_speed         25014 non-null  float64\n",
            " 8   most_wind_direction    24994 non-null  float64\n",
            " 9   avg_relative_humidity  25003 non-null  float64\n",
            "dtypes: float64(7), int64(1), object(2)\n",
            "memory usage: 1.9+ MB\n"
          ],
          "name": "stdout"
        }
      ]
    },
    {
      "cell_type": "code",
      "metadata": {
        "id": "c9zTaVqjc2jG",
        "colab_type": "code",
        "colab": {
          "base_uri": "https://localhost:8080/",
          "height": 204
        },
        "outputId": "fe4100d4-3707-4ae7-d66d-35c7f6133b74"
      },
      "source": [
        "weather.head()"
      ],
      "execution_count": 54,
      "outputs": [
        {
          "output_type": "execute_result",
          "data": {
            "text/html": [
              "<div>\n",
              "<style scoped>\n",
              "    .dataframe tbody tr th:only-of-type {\n",
              "        vertical-align: middle;\n",
              "    }\n",
              "\n",
              "    .dataframe tbody tr th {\n",
              "        vertical-align: top;\n",
              "    }\n",
              "\n",
              "    .dataframe thead th {\n",
              "        text-align: right;\n",
              "    }\n",
              "</style>\n",
              "<table border=\"1\" class=\"dataframe\">\n",
              "  <thead>\n",
              "    <tr style=\"text-align: right;\">\n",
              "      <th></th>\n",
              "      <th>code</th>\n",
              "      <th>province</th>\n",
              "      <th>date</th>\n",
              "      <th>avg_temp</th>\n",
              "      <th>min_temp</th>\n",
              "      <th>max_temp</th>\n",
              "      <th>precipitation</th>\n",
              "      <th>max_wind_speed</th>\n",
              "      <th>most_wind_direction</th>\n",
              "      <th>avg_relative_humidity</th>\n",
              "    </tr>\n",
              "  </thead>\n",
              "  <tbody>\n",
              "    <tr>\n",
              "      <th>0</th>\n",
              "      <td>10000</td>\n",
              "      <td>Seoul</td>\n",
              "      <td>2016-01-01</td>\n",
              "      <td>1.2</td>\n",
              "      <td>-3.3</td>\n",
              "      <td>4.0</td>\n",
              "      <td>0.0</td>\n",
              "      <td>3.5</td>\n",
              "      <td>90.0</td>\n",
              "      <td>73.0</td>\n",
              "    </tr>\n",
              "    <tr>\n",
              "      <th>1</th>\n",
              "      <td>11000</td>\n",
              "      <td>Busan</td>\n",
              "      <td>2016-01-01</td>\n",
              "      <td>5.3</td>\n",
              "      <td>1.1</td>\n",
              "      <td>10.9</td>\n",
              "      <td>0.0</td>\n",
              "      <td>7.4</td>\n",
              "      <td>340.0</td>\n",
              "      <td>52.1</td>\n",
              "    </tr>\n",
              "    <tr>\n",
              "      <th>2</th>\n",
              "      <td>12000</td>\n",
              "      <td>Daegu</td>\n",
              "      <td>2016-01-01</td>\n",
              "      <td>1.7</td>\n",
              "      <td>-4.0</td>\n",
              "      <td>8.0</td>\n",
              "      <td>0.0</td>\n",
              "      <td>3.7</td>\n",
              "      <td>270.0</td>\n",
              "      <td>70.5</td>\n",
              "    </tr>\n",
              "    <tr>\n",
              "      <th>3</th>\n",
              "      <td>13000</td>\n",
              "      <td>Gwangju</td>\n",
              "      <td>2016-01-01</td>\n",
              "      <td>3.2</td>\n",
              "      <td>-1.5</td>\n",
              "      <td>8.1</td>\n",
              "      <td>0.0</td>\n",
              "      <td>2.7</td>\n",
              "      <td>230.0</td>\n",
              "      <td>73.1</td>\n",
              "    </tr>\n",
              "    <tr>\n",
              "      <th>4</th>\n",
              "      <td>14000</td>\n",
              "      <td>Incheon</td>\n",
              "      <td>2016-01-01</td>\n",
              "      <td>3.1</td>\n",
              "      <td>-0.4</td>\n",
              "      <td>5.7</td>\n",
              "      <td>0.0</td>\n",
              "      <td>5.3</td>\n",
              "      <td>180.0</td>\n",
              "      <td>83.9</td>\n",
              "    </tr>\n",
              "  </tbody>\n",
              "</table>\n",
              "</div>"
            ],
            "text/plain": [
              "    code province  ... most_wind_direction  avg_relative_humidity\n",
              "0  10000    Seoul  ...                90.0                   73.0\n",
              "1  11000    Busan  ...               340.0                   52.1\n",
              "2  12000    Daegu  ...               270.0                   70.5\n",
              "3  13000  Gwangju  ...               230.0                   73.1\n",
              "4  14000  Incheon  ...               180.0                   83.9\n",
              "\n",
              "[5 rows x 10 columns]"
            ]
          },
          "metadata": {
            "tags": []
          },
          "execution_count": 54
        }
      ]
    },
    {
      "cell_type": "code",
      "metadata": {
        "id": "Q0lnd2U-vcHl",
        "colab_type": "code",
        "outputId": "5f63b1ed-28bf-4c64-dad1-851b1420e9a9",
        "colab": {
          "base_uri": "https://localhost:8080/",
          "height": 297
        }
      },
      "source": [
        "weather[[\"avg_temp\",\t\"min_temp\",\t\"max_temp\",\t\"precipitation\",\t\"max_wind_speed\",\t\"most_wind_direction\",\t\"avg_relative_humidity\"]].describe()"
      ],
      "execution_count": 57,
      "outputs": [
        {
          "output_type": "execute_result",
          "data": {
            "text/html": [
              "<div>\n",
              "<style scoped>\n",
              "    .dataframe tbody tr th:only-of-type {\n",
              "        vertical-align: middle;\n",
              "    }\n",
              "\n",
              "    .dataframe tbody tr th {\n",
              "        vertical-align: top;\n",
              "    }\n",
              "\n",
              "    .dataframe thead th {\n",
              "        text-align: right;\n",
              "    }\n",
              "</style>\n",
              "<table border=\"1\" class=\"dataframe\">\n",
              "  <thead>\n",
              "    <tr style=\"text-align: right;\">\n",
              "      <th></th>\n",
              "      <th>avg_temp</th>\n",
              "      <th>min_temp</th>\n",
              "      <th>max_temp</th>\n",
              "      <th>precipitation</th>\n",
              "      <th>max_wind_speed</th>\n",
              "      <th>most_wind_direction</th>\n",
              "      <th>avg_relative_humidity</th>\n",
              "    </tr>\n",
              "  </thead>\n",
              "  <tbody>\n",
              "    <tr>\n",
              "      <th>count</th>\n",
              "      <td>25008.000000</td>\n",
              "      <td>25018.000000</td>\n",
              "      <td>25020.000000</td>\n",
              "      <td>25023.000000</td>\n",
              "      <td>25014.000000</td>\n",
              "      <td>24994.000000</td>\n",
              "      <td>25003.000000</td>\n",
              "    </tr>\n",
              "    <tr>\n",
              "      <th>mean</th>\n",
              "      <td>13.621057</td>\n",
              "      <td>9.437153</td>\n",
              "      <td>18.526379</td>\n",
              "      <td>3.267086</td>\n",
              "      <td>5.102778</td>\n",
              "      <td>195.947027</td>\n",
              "      <td>65.564572</td>\n",
              "    </tr>\n",
              "    <tr>\n",
              "      <th>std</th>\n",
              "      <td>9.636505</td>\n",
              "      <td>10.021912</td>\n",
              "      <td>9.686541</td>\n",
              "      <td>12.655798</td>\n",
              "      <td>2.022522</td>\n",
              "      <td>106.909278</td>\n",
              "      <td>17.232745</td>\n",
              "    </tr>\n",
              "    <tr>\n",
              "      <th>min</th>\n",
              "      <td>-14.800000</td>\n",
              "      <td>-19.200000</td>\n",
              "      <td>-11.900000</td>\n",
              "      <td>0.000000</td>\n",
              "      <td>1.000000</td>\n",
              "      <td>20.000000</td>\n",
              "      <td>10.400000</td>\n",
              "    </tr>\n",
              "    <tr>\n",
              "      <th>25%</th>\n",
              "      <td>5.600000</td>\n",
              "      <td>1.000000</td>\n",
              "      <td>10.500000</td>\n",
              "      <td>0.000000</td>\n",
              "      <td>3.800000</td>\n",
              "      <td>90.000000</td>\n",
              "      <td>53.500000</td>\n",
              "    </tr>\n",
              "    <tr>\n",
              "      <th>50%</th>\n",
              "      <td>14.100000</td>\n",
              "      <td>9.500000</td>\n",
              "      <td>19.400000</td>\n",
              "      <td>0.000000</td>\n",
              "      <td>4.700000</td>\n",
              "      <td>230.000000</td>\n",
              "      <td>66.600000</td>\n",
              "    </tr>\n",
              "    <tr>\n",
              "      <th>75%</th>\n",
              "      <td>21.900000</td>\n",
              "      <td>18.100000</td>\n",
              "      <td>26.600000</td>\n",
              "      <td>0.200000</td>\n",
              "      <td>6.000000</td>\n",
              "      <td>290.000000</td>\n",
              "      <td>78.600000</td>\n",
              "    </tr>\n",
              "    <tr>\n",
              "      <th>max</th>\n",
              "      <td>33.900000</td>\n",
              "      <td>30.300000</td>\n",
              "      <td>40.000000</td>\n",
              "      <td>310.000000</td>\n",
              "      <td>29.400000</td>\n",
              "      <td>360.000000</td>\n",
              "      <td>100.000000</td>\n",
              "    </tr>\n",
              "  </tbody>\n",
              "</table>\n",
              "</div>"
            ],
            "text/plain": [
              "           avg_temp      min_temp  ...  most_wind_direction  avg_relative_humidity\n",
              "count  25008.000000  25018.000000  ...         24994.000000           25003.000000\n",
              "mean      13.621057      9.437153  ...           195.947027              65.564572\n",
              "std        9.636505     10.021912  ...           106.909278              17.232745\n",
              "min      -14.800000    -19.200000  ...            20.000000              10.400000\n",
              "25%        5.600000      1.000000  ...            90.000000              53.500000\n",
              "50%       14.100000      9.500000  ...           230.000000              66.600000\n",
              "75%       21.900000     18.100000  ...           290.000000              78.600000\n",
              "max       33.900000     30.300000  ...           360.000000             100.000000\n",
              "\n",
              "[8 rows x 7 columns]"
            ]
          },
          "metadata": {
            "tags": []
          },
          "execution_count": 57
        }
      ]
    },
    {
      "cell_type": "markdown",
      "metadata": {
        "id": "Bi3m-P9uvcHp",
        "colab_type": "text"
      },
      "source": [
        "## Search Section"
      ]
    },
    {
      "cell_type": "code",
      "metadata": {
        "id": "gjX5ByytvcHp",
        "colab_type": "code",
        "outputId": "0959e41e-fdb0-4f14-c4ab-c136a41d918b",
        "colab": {
          "base_uri": "https://localhost:8080/",
          "height": 221
        }
      },
      "source": [
        "searchtrend.info()"
      ],
      "execution_count": 32,
      "outputs": [
        {
          "output_type": "stream",
          "text": [
            "<class 'pandas.core.frame.DataFrame'>\n",
            "RangeIndex: 1564 entries, 0 to 1563\n",
            "Data columns (total 5 columns):\n",
            " #   Column       Non-Null Count  Dtype  \n",
            "---  ------       --------------  -----  \n",
            " 0   date         1564 non-null   object \n",
            " 1   cold         1564 non-null   float64\n",
            " 2   flu          1564 non-null   float64\n",
            " 3   pneumonia    1564 non-null   float64\n",
            " 4   coronavirus  1564 non-null   float64\n",
            "dtypes: float64(4), object(1)\n",
            "memory usage: 61.2+ KB\n"
          ],
          "name": "stdout"
        }
      ]
    },
    {
      "cell_type": "code",
      "metadata": {
        "id": "xRmcKtLsvcHr",
        "colab_type": "code",
        "outputId": "1899a576-8659-42ad-92d4-53b9c71fb3f3",
        "colab": {
          "base_uri": "https://localhost:8080/",
          "height": 297
        }
      },
      "source": [
        "searchtrend.describe()"
      ],
      "execution_count": 33,
      "outputs": [
        {
          "output_type": "execute_result",
          "data": {
            "text/html": [
              "<div>\n",
              "<style scoped>\n",
              "    .dataframe tbody tr th:only-of-type {\n",
              "        vertical-align: middle;\n",
              "    }\n",
              "\n",
              "    .dataframe tbody tr th {\n",
              "        vertical-align: top;\n",
              "    }\n",
              "\n",
              "    .dataframe thead th {\n",
              "        text-align: right;\n",
              "    }\n",
              "</style>\n",
              "<table border=\"1\" class=\"dataframe\">\n",
              "  <thead>\n",
              "    <tr style=\"text-align: right;\">\n",
              "      <th></th>\n",
              "      <th>cold</th>\n",
              "      <th>flu</th>\n",
              "      <th>pneumonia</th>\n",
              "      <th>coronavirus</th>\n",
              "    </tr>\n",
              "  </thead>\n",
              "  <tbody>\n",
              "    <tr>\n",
              "      <th>count</th>\n",
              "      <td>1564.000000</td>\n",
              "      <td>1564.000000</td>\n",
              "      <td>1564.000000</td>\n",
              "      <td>1564.000000</td>\n",
              "    </tr>\n",
              "    <tr>\n",
              "      <th>mean</th>\n",
              "      <td>0.193994</td>\n",
              "      <td>0.255173</td>\n",
              "      <td>0.227153</td>\n",
              "      <td>1.766220</td>\n",
              "    </tr>\n",
              "    <tr>\n",
              "      <th>std</th>\n",
              "      <td>0.470578</td>\n",
              "      <td>0.779597</td>\n",
              "      <td>0.473678</td>\n",
              "      <td>9.248131</td>\n",
              "    </tr>\n",
              "    <tr>\n",
              "      <th>min</th>\n",
              "      <td>0.051630</td>\n",
              "      <td>0.009810</td>\n",
              "      <td>0.068810</td>\n",
              "      <td>0.001540</td>\n",
              "    </tr>\n",
              "    <tr>\n",
              "      <th>25%</th>\n",
              "      <td>0.106698</td>\n",
              "      <td>0.046405</td>\n",
              "      <td>0.132192</td>\n",
              "      <td>0.006180</td>\n",
              "    </tr>\n",
              "    <tr>\n",
              "      <th>50%</th>\n",
              "      <td>0.134630</td>\n",
              "      <td>0.106080</td>\n",
              "      <td>0.168080</td>\n",
              "      <td>0.008630</td>\n",
              "    </tr>\n",
              "    <tr>\n",
              "      <th>75%</th>\n",
              "      <td>0.166855</td>\n",
              "      <td>0.261647</td>\n",
              "      <td>0.212833</td>\n",
              "      <td>0.012270</td>\n",
              "    </tr>\n",
              "    <tr>\n",
              "      <th>max</th>\n",
              "      <td>15.720710</td>\n",
              "      <td>27.327270</td>\n",
              "      <td>11.393200</td>\n",
              "      <td>100.000000</td>\n",
              "    </tr>\n",
              "  </tbody>\n",
              "</table>\n",
              "</div>"
            ],
            "text/plain": [
              "              cold          flu    pneumonia  coronavirus\n",
              "count  1564.000000  1564.000000  1564.000000  1564.000000\n",
              "mean      0.193994     0.255173     0.227153     1.766220\n",
              "std       0.470578     0.779597     0.473678     9.248131\n",
              "min       0.051630     0.009810     0.068810     0.001540\n",
              "25%       0.106698     0.046405     0.132192     0.006180\n",
              "50%       0.134630     0.106080     0.168080     0.008630\n",
              "75%       0.166855     0.261647     0.212833     0.012270\n",
              "max      15.720710    27.327270    11.393200   100.000000"
            ]
          },
          "metadata": {
            "tags": []
          },
          "execution_count": 33
        }
      ]
    },
    {
      "cell_type": "code",
      "metadata": {
        "id": "ANyfHqHcvcHt",
        "colab_type": "code",
        "outputId": "9a3eff69-7fcf-4b45-9e3d-95854be71f5a",
        "colab": {
          "base_uri": "https://localhost:8080/",
          "height": 255
        }
      },
      "source": [
        "searchfloating.info()"
      ],
      "execution_count": 34,
      "outputs": [
        {
          "output_type": "stream",
          "text": [
            "<class 'pandas.core.frame.DataFrame'>\n",
            "RangeIndex: 432000 entries, 0 to 431999\n",
            "Data columns (total 7 columns):\n",
            " #   Column      Non-Null Count   Dtype \n",
            "---  ------      --------------   ----- \n",
            " 0   date        432000 non-null  object\n",
            " 1   hour        432000 non-null  int64 \n",
            " 2   birth_year  432000 non-null  int64 \n",
            " 3   sex         432000 non-null  object\n",
            " 4   province    432000 non-null  object\n",
            " 5   city        432000 non-null  object\n",
            " 6   fp_num      432000 non-null  int64 \n",
            "dtypes: int64(3), object(4)\n",
            "memory usage: 23.1+ MB\n"
          ],
          "name": "stdout"
        }
      ]
    },
    {
      "cell_type": "code",
      "metadata": {
        "id": "lBXwa-BRvcHv",
        "colab_type": "code",
        "outputId": "7e0783ef-83cc-4cd1-9625-67babba59614",
        "colab": {
          "base_uri": "https://localhost:8080/",
          "height": 297
        }
      },
      "source": [
        "searchfloating.describe()"
      ],
      "execution_count": 35,
      "outputs": [
        {
          "output_type": "execute_result",
          "data": {
            "text/html": [
              "<div>\n",
              "<style scoped>\n",
              "    .dataframe tbody tr th:only-of-type {\n",
              "        vertical-align: middle;\n",
              "    }\n",
              "\n",
              "    .dataframe tbody tr th {\n",
              "        vertical-align: top;\n",
              "    }\n",
              "\n",
              "    .dataframe thead th {\n",
              "        text-align: right;\n",
              "    }\n",
              "</style>\n",
              "<table border=\"1\" class=\"dataframe\">\n",
              "  <thead>\n",
              "    <tr style=\"text-align: right;\">\n",
              "      <th></th>\n",
              "      <th>hour</th>\n",
              "      <th>birth_year</th>\n",
              "      <th>fp_num</th>\n",
              "    </tr>\n",
              "  </thead>\n",
              "  <tbody>\n",
              "    <tr>\n",
              "      <th>count</th>\n",
              "      <td>432000.000000</td>\n",
              "      <td>432000.000000</td>\n",
              "      <td>432000.000000</td>\n",
              "    </tr>\n",
              "    <tr>\n",
              "      <th>mean</th>\n",
              "      <td>11.500000</td>\n",
              "      <td>45.000000</td>\n",
              "      <td>27860.034884</td>\n",
              "    </tr>\n",
              "    <tr>\n",
              "      <th>std</th>\n",
              "      <td>6.922195</td>\n",
              "      <td>17.078271</td>\n",
              "      <td>13122.838441</td>\n",
              "    </tr>\n",
              "    <tr>\n",
              "      <th>min</th>\n",
              "      <td>0.000000</td>\n",
              "      <td>20.000000</td>\n",
              "      <td>4480.000000</td>\n",
              "    </tr>\n",
              "    <tr>\n",
              "      <th>25%</th>\n",
              "      <td>5.750000</td>\n",
              "      <td>30.000000</td>\n",
              "      <td>18940.000000</td>\n",
              "    </tr>\n",
              "    <tr>\n",
              "      <th>50%</th>\n",
              "      <td>11.500000</td>\n",
              "      <td>45.000000</td>\n",
              "      <td>25690.000000</td>\n",
              "    </tr>\n",
              "    <tr>\n",
              "      <th>75%</th>\n",
              "      <td>17.250000</td>\n",
              "      <td>60.000000</td>\n",
              "      <td>34000.000000</td>\n",
              "    </tr>\n",
              "    <tr>\n",
              "      <th>max</th>\n",
              "      <td>23.000000</td>\n",
              "      <td>70.000000</td>\n",
              "      <td>127640.000000</td>\n",
              "    </tr>\n",
              "  </tbody>\n",
              "</table>\n",
              "</div>"
            ],
            "text/plain": [
              "                hour     birth_year         fp_num\n",
              "count  432000.000000  432000.000000  432000.000000\n",
              "mean       11.500000      45.000000   27860.034884\n",
              "std         6.922195      17.078271   13122.838441\n",
              "min         0.000000      20.000000    4480.000000\n",
              "25%         5.750000      30.000000   18940.000000\n",
              "50%        11.500000      45.000000   25690.000000\n",
              "75%        17.250000      60.000000   34000.000000\n",
              "max        23.000000      70.000000  127640.000000"
            ]
          },
          "metadata": {
            "tags": []
          },
          "execution_count": 35
        }
      ]
    },
    {
      "cell_type": "code",
      "metadata": {
        "id": "4QOdjp7tvcHx",
        "colab_type": "code",
        "outputId": "b7871c89-29a5-4401-a755-277e153080c4",
        "colab": {
          "base_uri": "https://localhost:8080/",
          "height": 68
        }
      },
      "source": [
        "searchfloating['sex'].value_counts()"
      ],
      "execution_count": 36,
      "outputs": [
        {
          "output_type": "execute_result",
          "data": {
            "text/plain": [
              "female    216000\n",
              "male      216000\n",
              "Name: sex, dtype: int64"
            ]
          },
          "metadata": {
            "tags": []
          },
          "execution_count": 36
        }
      ]
    },
    {
      "cell_type": "code",
      "metadata": {
        "id": "JxiidI2VvcH0",
        "colab_type": "code",
        "outputId": "422548ae-1b13-4286-8e0d-acd2df63db4b",
        "colab": {
          "base_uri": "https://localhost:8080/",
          "height": 459
        }
      },
      "source": [
        "searchfloating['city'].value_counts()"
      ],
      "execution_count": 37,
      "outputs": [
        {
          "output_type": "execute_result",
          "data": {
            "text/plain": [
              "Geumcheon-gu       17280\n",
              "Gwanak-gu          17280\n",
              "Dongdaemun-gu      17280\n",
              "Gangseo-gu         17280\n",
              "Yongsan-gu         17280\n",
              "Eunpyeong-gu       17280\n",
              "Gangnam-gu         17280\n",
              "Guro-gu            17280\n",
              "Yangcheon-gu       17280\n",
              "Gwangjin-gu        17280\n",
              "Jongno-gu          17280\n",
              "Gangdong-gu        17280\n",
              "Dongjag-gu         17280\n",
              "Seongdong-gu       17280\n",
              "Mapo-gu            17280\n",
              "Seongbuk-gu        17280\n",
              "Seocho-gu          17280\n",
              "Gangbuk-gu         17280\n",
              "Dobong-gu          17280\n",
              "Yeongdeungpo-gu    17280\n",
              "Seodaemun-gu       17280\n",
              "Jung-gu            17280\n",
              "Songpa-gu          17280\n",
              "Nowon-gu           17280\n",
              "Jungnang-gu        17280\n",
              "Name: city, dtype: int64"
            ]
          },
          "metadata": {
            "tags": []
          },
          "execution_count": 37
        }
      ]
    },
    {
      "cell_type": "code",
      "metadata": {
        "id": "4NqigsMlvcH1",
        "colab_type": "code",
        "colab": {}
      },
      "source": [
        ""
      ],
      "execution_count": 0,
      "outputs": []
    }
  ]
}